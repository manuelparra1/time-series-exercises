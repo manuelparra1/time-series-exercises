{
 "cells": [
  {
   "cell_type": "code",
   "execution_count": 1,
   "id": "e0d217a0",
   "metadata": {},
   "outputs": [],
   "source": [
    "import numpy as np\n",
    "import pandas as pd\n",
    "import matplotlib.pyplot as plt\n",
    "import seaborn as sns\n",
    "\n",
    "\n",
    "from datetime import datetime\n",
    "from sklearn.metrics import mean_squared_error\n",
    "from math import sqrt\n",
    "\n",
    "from pandas.plotting import register_matplotlib_converters\n",
    "\n",
    "import statsmodels.api as sm\n",
    "from statsmodels.tsa.api import Holt"
   ]
  },
  {
   "cell_type": "markdown",
   "id": "a8f1f509",
   "metadata": {},
   "source": [
    "# Exercises"
   ]
  },
  {
   "cell_type": "markdown",
   "id": "175c4d60",
   "metadata": {},
   "source": [
    "<hr style=\"border:2px solid gray\">"
   ]
  },
  {
   "cell_type": "markdown",
   "id": "111c02d0",
   "metadata": {},
   "source": [
    "# Only:"
   ]
  },
  {
   "cell_type": "markdown",
   "id": "4da27412",
   "metadata": {},
   "source": [
    "## d. Based on previous year/month/etc., this is up to you."
   ]
  },
  {
   "cell_type": "markdown",
   "id": "3e3c955e",
   "metadata": {},
   "source": [
    "### - Resample By Month\n",
    "### - Predict based on previous year"
   ]
  },
  {
   "cell_type": "markdown",
   "id": "f5f61ace",
   "metadata": {},
   "source": [
    "```python\n",
    "saas_df = pd.read_csv('saas.csv')\n",
    "saas_df = clean_saas_df(saas_df)\n",
    "```"
   ]
  },
  {
   "cell_type": "markdown",
   "id": "d57705fd",
   "metadata": {},
   "source": [
    "<hr style=\"border:2px solid gray\">"
   ]
  },
  {
   "cell_type": "markdown",
   "id": "99935cb7",
   "metadata": {},
   "source": [
    "# Imports"
   ]
  },
  {
   "cell_type": "code",
   "execution_count": 2,
   "id": "a49f2620",
   "metadata": {},
   "outputs": [],
   "source": [
    "def clean_saas_df(df):\n",
    "    # set datetime data type and sort\n",
    "    df['Month_Invoiced']=pd.to_datetime(df['Month_Invoiced'])\n",
    "    \n",
    "    # set 'Date' column as index and sorted\n",
    "    df = df.set_index(\"Month_Invoiced\").sort_index()\n",
    "    \n",
    "    # feature engineering: added 'month' column using index\n",
    "    df['month'] = df.index.month_name()\n",
    "    \n",
    "    # feature engineering: added 'year' column using index\n",
    "    df['year'] = df.index.year\n",
    "    \n",
    "    # change datatypes\n",
    "    df[\"year\"]  = df[\"year\"].astype('string')\n",
    "    df[\"Customer_Id\"]  = df[\"Customer_Id\"].astype('string')\n",
    "    df[\"Invoice_Id\"]  = df[\"Invoice_Id\"].astype('string')\n",
    "    df[\"Subscription_Type\"]  = df[\"Subscription_Type\"].astype('string')\n",
    "    \n",
    "    # rename columns snake_case\n",
    "    \n",
    "    df.columns = (df.columns\n",
    "                .str.replace(' ', '_', regex=True)\n",
    "                .str.lower()\n",
    "             )\n",
    "\n",
    "    return df"
   ]
  },
  {
   "cell_type": "code",
   "execution_count": 3,
   "id": "75976484",
   "metadata": {},
   "outputs": [],
   "source": [
    "def evaluate(target_var):\n",
    "    rmse = round(sqrt(mean_squared_error(validate[target_var], yhat_df[target_var])), 0)\n",
    "    return rmse"
   ]
  },
  {
   "cell_type": "code",
   "execution_count": 4,
   "id": "a1f5785f",
   "metadata": {},
   "outputs": [],
   "source": [
    "def plot_and_eval(target_var):\n",
    "    plt.figure(figsize = (12,4))\n",
    "    plt.plot(train[target_var], label = 'Train', linewidth = 1)\n",
    "    plt.plot(validate[target_var], label = 'Validate', linewidth = 1)\n",
    "    plt.plot(yhat_df[target_var])\n",
    "    plt.title(target_var)\n",
    "    rmse = evaluate(target_var)\n",
    "    print(target_var, '-- RMSE: {:.0f}'.format(rmse))\n",
    "    plt.show()"
   ]
  },
  {
   "cell_type": "code",
   "execution_count": 5,
   "id": "4b2d56ad",
   "metadata": {},
   "outputs": [],
   "source": [
    "# Create the empty dataframe\n",
    "eval_df = pd.DataFrame(columns=['model_type', 'target_var', 'rmse'])\n",
    "\n",
    "# function to store rmse for comparison purposes\n",
    "def append_eval_df(model_type, target_var):\n",
    "    rmse = evaluate(target_var)\n",
    "    d = {'model_type': [model_type], 'target_var': [target_var], 'rmse': [rmse]}\n",
    "    d = pd.DataFrame(d)\n",
    "    return eval_df.append(d, ignore_index = True)"
   ]
  },
  {
   "cell_type": "markdown",
   "id": "e1b0491f",
   "metadata": {},
   "source": [
    "<hr style=\"border:2px solid gray\">"
   ]
  },
  {
   "cell_type": "markdown",
   "id": "49ae2d76",
   "metadata": {},
   "source": [
    "# Acquire"
   ]
  },
  {
   "cell_type": "code",
   "execution_count": 6,
   "id": "3637979d",
   "metadata": {},
   "outputs": [],
   "source": [
    "saas_df = pd.read_csv('saas.csv')"
   ]
  },
  {
   "cell_type": "code",
   "execution_count": 7,
   "id": "e8133881",
   "metadata": {},
   "outputs": [],
   "source": [
    "saas_df = clean_saas_df(saas_df)"
   ]
  },
  {
   "cell_type": "code",
   "execution_count": 8,
   "id": "a52be0f4",
   "metadata": {},
   "outputs": [],
   "source": [
    "# changing 'amount' column to float16\n",
    "saas_df['amount'] = saas_df['amount'].astype('float16')"
   ]
  },
  {
   "cell_type": "markdown",
   "id": "3cb4daa8",
   "metadata": {},
   "source": [
    "## split settings Percentage\n",
    "```python\n",
    "train_size = int(len(saas_df) * .5)\n",
    "validate_size = int(len(saas_df) * .3)\n",
    "test_size = int(len(saas_df) - train_size - validate_size)\n",
    "validate_end_index = train_size + validate_size\n",
    "```"
   ]
  },
  {
   "cell_type": "markdown",
   "id": "debe8e84",
   "metadata": {},
   "source": [
    "## Percentage split into train, validation, test\n",
    "```python\n",
    "train = saas_df[: train_size]\n",
    "validate = saas_df[train_size : validate_end_index]\n",
    "test = saas_df[validate_end_index : ]\n",
    "```"
   ]
  },
  {
   "cell_type": "markdown",
   "id": "1a068ba2",
   "metadata": {},
   "source": [
    "# REDO"
   ]
  },
  {
   "cell_type": "markdown",
   "id": "8e924d22",
   "metadata": {},
   "source": [
    "# 1. Split data (train/validate/test) and resample by any period except daily. Aggregate using the sum."
   ]
  },
  {
   "cell_type": "code",
   "execution_count": 9,
   "id": "2a49b98c",
   "metadata": {},
   "outputs": [],
   "source": [
    "train = saas_df[:'2015']\n",
    "validate = saas_df.loc['2016']\n",
    "test = saas_df.loc['2017']"
   ]
  },
  {
   "cell_type": "code",
   "execution_count": 10,
   "id": "2e837c45",
   "metadata": {},
   "outputs": [],
   "source": [
    "# R E S A M P L E\n",
    "saas_df_resampled_m = train.resample('M').sum()"
   ]
  },
  {
   "cell_type": "code",
   "execution_count": null,
   "id": "a0bad75a",
   "metadata": {},
   "outputs": [],
   "source": [
    "### predictions"
   ]
  },
  {
   "cell_type": "code",
   "execution_count": null,
   "id": "c6e11f65",
   "metadata": {},
   "outputs": [],
   "source": [
    "# train.diff(365).mean()"
   ]
  },
  {
   "cell_type": "code",
   "execution_count": null,
   "id": "62c3f121",
   "metadata": {},
   "outputs": [],
   "source": [
    "# yhat_df = train.loc['2015'] + train.diff(365).mean()"
   ]
  },
  {
   "cell_type": "code",
   "execution_count": 11,
   "id": "11eba28d",
   "metadata": {},
   "outputs": [
    {
     "data": {
      "text/html": [
       "<div>\n",
       "<style scoped>\n",
       "    .dataframe tbody tr th:only-of-type {\n",
       "        vertical-align: middle;\n",
       "    }\n",
       "\n",
       "    .dataframe tbody tr th {\n",
       "        vertical-align: top;\n",
       "    }\n",
       "\n",
       "    .dataframe thead th {\n",
       "        text-align: right;\n",
       "    }\n",
       "</style>\n",
       "<table border=\"1\" class=\"dataframe\">\n",
       "  <thead>\n",
       "    <tr style=\"text-align: right;\">\n",
       "      <th></th>\n",
       "      <th>customer_id</th>\n",
       "      <th>invoice_id</th>\n",
       "      <th>subscription_type</th>\n",
       "      <th>amount</th>\n",
       "      <th>month</th>\n",
       "      <th>year</th>\n",
       "    </tr>\n",
       "    <tr>\n",
       "      <th>Month_Invoiced</th>\n",
       "      <th></th>\n",
       "      <th></th>\n",
       "      <th></th>\n",
       "      <th></th>\n",
       "      <th></th>\n",
       "      <th></th>\n",
       "    </tr>\n",
       "  </thead>\n",
       "  <tbody>\n",
       "    <tr>\n",
       "      <th>2016-01-31</th>\n",
       "      <td>1000000</td>\n",
       "      <td>5431894</td>\n",
       "      <td>1.0</td>\n",
       "      <td>5.0</td>\n",
       "      <td>January</td>\n",
       "      <td>2016</td>\n",
       "    </tr>\n",
       "    <tr>\n",
       "      <th>2016-01-31</th>\n",
       "      <td>1000003</td>\n",
       "      <td>5431895</td>\n",
       "      <td>0.0</td>\n",
       "      <td>0.0</td>\n",
       "      <td>January</td>\n",
       "      <td>2016</td>\n",
       "    </tr>\n",
       "    <tr>\n",
       "      <th>2016-01-31</th>\n",
       "      <td>1000004</td>\n",
       "      <td>5431896</td>\n",
       "      <td>1.0</td>\n",
       "      <td>5.0</td>\n",
       "      <td>January</td>\n",
       "      <td>2016</td>\n",
       "    </tr>\n",
       "  </tbody>\n",
       "</table>\n",
       "</div>"
      ],
      "text/plain": [
       "               customer_id invoice_id subscription_type  amount    month  year\n",
       "Month_Invoiced                                                                \n",
       "2016-01-31         1000000    5431894               1.0     5.0  January  2016\n",
       "2016-01-31         1000003    5431895               0.0     0.0  January  2016\n",
       "2016-01-31         1000004    5431896               1.0     5.0  January  2016"
      ]
     },
     "execution_count": 11,
     "metadata": {},
     "output_type": "execute_result"
    }
   ],
   "source": [
    "validate.head(3)"
   ]
  },
  {
   "cell_type": "code",
   "execution_count": null,
   "id": "314c52ab",
   "metadata": {},
   "outputs": [],
   "source": [
    "# Predict sales using previous cycle method\n",
    "validate['pred_sales'] = train['2015'].shift(12)\n",
    "\n",
    "print(df_monthly)"
   ]
  },
  {
   "cell_type": "code",
   "execution_count": null,
   "id": "7b7b4768",
   "metadata": {},
   "outputs": [],
   "source": [
    "validate.head(3)"
   ]
  },
  {
   "cell_type": "code",
   "execution_count": null,
   "id": "a0f19f1c",
   "metadata": {},
   "outputs": [],
   "source": [
    "# Adding Top Line in Validate to Top Line in Predictions DF (yhat)\n",
    "pd.concat([yhat_df.head(1), validate.head(1)])"
   ]
  },
  {
   "cell_type": "markdown",
   "id": "a0b1d423",
   "metadata": {},
   "source": [
    "# Predict?"
   ]
  },
  {
   "cell_type": "code",
   "execution_count": null,
   "id": "669fa6a4",
   "metadata": {},
   "outputs": [],
   "source": [
    "# set yhat_df to index of validate\n",
    "yhat_df.index = validate.index\n",
    "\n",
    "len(yhat_df)"
   ]
  },
  {
   "cell_type": "code",
   "execution_count": null,
   "id": "d4fece2f",
   "metadata": {},
   "outputs": [],
   "source": [
    "# Plot & Eval target name column in Train DF\n",
    "for col in train.columns:\n",
    "    plot_and_eval(target_var = col)\n",
    "    eval_df = append_eval_df(model_type = 'previous year', target_var = col)"
   ]
  },
  {
   "cell_type": "code",
   "execution_count": null,
   "id": "64259a4d",
   "metadata": {
    "scrolled": true
   },
   "outputs": [],
   "source": [
    "saas_df.head()"
   ]
  },
  {
   "cell_type": "markdown",
   "id": "19b5864c",
   "metadata": {},
   "source": [
    "```python\n",
    "# Predict sales using previous cycle method\n",
    "saas_df['pred_sales'] = saas_df['sales'].shift(12)\n",
    "\n",
    "print(df_monthly)\n",
    "```"
   ]
  },
  {
   "cell_type": "markdown",
   "id": "279f4018",
   "metadata": {},
   "source": [
    "<hr style=\"border:2px solid gray\">"
   ]
  },
  {
   "cell_type": "markdown",
   "id": "bb846e71",
   "metadata": {},
   "source": [
    "# Curriculum"
   ]
  },
  {
   "cell_type": "code",
   "execution_count": null,
   "id": "714b5604",
   "metadata": {},
   "outputs": [],
   "source": [
    "# monthly delta for year\n",
    "delta = df.diff()"
   ]
  },
  {
   "cell_type": "code",
   "execution_count": null,
   "id": "1ee2efaa",
   "metadata": {},
   "outputs": [],
   "source": [
    "# average delta for each year\n",
    "first_year_delta = delta[delta.index.year == 2014].mean()[0]\n",
    "second_year_delta = delta[delta.index.year == 2015].mean()[0]"
   ]
  },
  {
   "cell_type": "code",
   "execution_count": null,
   "id": "f1b10299",
   "metadata": {},
   "outputs": [],
   "source": [
    "validate.shape,test.shape"
   ]
  },
  {
   "cell_type": "code",
   "execution_count": null,
   "id": "ecb4375a",
   "metadata": {},
   "outputs": [],
   "source": [
    "# Use the average delta to predict the third year\n",
    "prediction_df = pd.DataFrame(columns=['item_price', 'amount_sold'])\n",
    "prediction_df.loc[0] = df.loc[df.index.year == 2015].iloc[-1]"
   ]
  },
  {
   "cell_type": "code",
   "execution_count": null,
   "id": "6cfe5492",
   "metadata": {},
   "outputs": [],
   "source": [
    "prediction_df"
   ]
  },
  {
   "cell_type": "code",
   "execution_count": null,
   "id": "2500e06d",
   "metadata": {},
   "outputs": [],
   "source": [
    "for i in range(12):\n",
    "    prediction_df.loc[i+1] = prediction_df.loc[i] + [first_year_delta, second_year_delta]"
   ]
  },
  {
   "cell_type": "code",
   "execution_count": null,
   "id": "a499f115",
   "metadata": {},
   "outputs": [],
   "source": [
    "# Add the year 2020 to the date index of the prediction DataFrame\n",
    "prediction_df.index = pd.date_range(start='2020-01-01', periods=12, freq='M')\n",
    "prediction_df"
   ]
  }
 ],
 "metadata": {
  "kernelspec": {
   "display_name": "Python 3 (ipykernel)",
   "language": "python",
   "name": "python3"
  },
  "language_info": {
   "codemirror_mode": {
    "name": "ipython",
    "version": 3
   },
   "file_extension": ".py",
   "mimetype": "text/x-python",
   "name": "python",
   "nbconvert_exporter": "python",
   "pygments_lexer": "ipython3",
   "version": "3.9.15"
  }
 },
 "nbformat": 4,
 "nbformat_minor": 5
}
