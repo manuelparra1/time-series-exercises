{
 "cells": [
  {
   "cell_type": "markdown",
   "id": "d9fff7e0",
   "metadata": {},
   "source": [
    "<div>\n",
    "<img src=\"Sales.png\" width=\"600\" align=\"left\"/>\n",
    "</div>"
   ]
  },
  {
   "cell_type": "markdown",
   "id": "323d0c13",
   "metadata": {},
   "source": [
    "# Next Years Sales Goals"
   ]
  },
  {
   "cell_type": "markdown",
   "id": "74b751f3",
   "metadata": {},
   "source": [
    "## VP of Sales:"
   ]
  },
  {
   "cell_type": "code",
   "execution_count": 72,
   "id": "19f117aa",
   "metadata": {},
   "outputs": [],
   "source": [
    "import numpy as np\n",
    "import pandas as pd\n",
    "import matplotlib.pyplot as plt\n",
    "import statsmodels.api as sm\n",
    "\n",
    "from env import *\n",
    "from acquire import *\n",
    "from prepare import *"
   ]
  },
  {
   "cell_type": "code",
   "execution_count": 42,
   "id": "3c62a87b",
   "metadata": {},
   "outputs": [],
   "source": [
    "def get_superstore_data():\n",
    "    filename = 'superstore_data.csv'\n",
    "    \n",
    "    if not os.path.exists(filename):\n",
    "        sql_db = \"superstore_db\"\n",
    "        url = get_db_url(sql_db)\n",
    "        \n",
    "        query = '''\n",
    "                    SELECT * \n",
    "                    FROM orders\n",
    "                    JOIN categories USING(`Category ID`)\n",
    "                    JOIN products USING(`Product ID`)\n",
    "                    JOIN regions USING(`Region ID`)\n",
    "                '''\n",
    "\n",
    "        df = pd.read_sql(query,url)\n",
    "        df.to_csv(filename, index=False)\n",
    "        print(f\"Saving {filename}...\")\n",
    "        return df\n",
    "    \n",
    "    else:\n",
    "        print(f\"File {filename} already exists. Loading {filename}...\")\n",
    "        \n",
    "        return pd.read_csv(filename,index_col=False)"
   ]
  },
  {
   "cell_type": "code",
   "execution_count": 47,
   "id": "76dc6891",
   "metadata": {},
   "outputs": [],
   "source": [
    "def clean_superstore_data(df):\n",
    "    # set datetime data type\n",
    "    df['Order Date']=pd.to_datetime(df['Order Date'])\n",
    "    \n",
    "    # set 'Date' column as index and sorted\n",
    "    df = df.set_index(\"Order Date\").sort_index()\n",
    "    \n",
    "    # feature engineering: added 'month' column using index\n",
    "    df['month'] = df.index.month_name()\n",
    "    \n",
    "    # feature engineering: added 'year' column using index\n",
    "    df['year'] = df.index.year\n",
    "    \n",
    "    # feature engineering: added 'year' column using index\n",
    "    df['day'] = df.index.day_name()\n",
    "    \n",
    "    # rename columns to python naming conventions ie: snake_case\n",
    "    df.columns = (df.columns\n",
    "                .str.replace(' ', '_', regex=True)\n",
    "                .str.lower()\n",
    "             )\n",
    "    return df"
   ]
  },
  {
   "cell_type": "code",
   "execution_count": 48,
   "id": "678c6380",
   "metadata": {},
   "outputs": [
    {
     "name": "stdout",
     "output_type": "stream",
     "text": [
      "File superstore_data.csv already exists. Loading superstore_data.csv...\n"
     ]
    }
   ],
   "source": [
    "superstore_df = get_superstore_data()"
   ]
  },
  {
   "cell_type": "code",
   "execution_count": 49,
   "id": "00246736",
   "metadata": {},
   "outputs": [],
   "source": [
    "superstore_df = clean_superstore_data(superstore_df)"
   ]
  },
  {
   "cell_type": "markdown",
   "id": "56c1474c",
   "metadata": {},
   "source": [
    "### What should our sales goals for 2018 be?"
   ]
  },
  {
   "cell_type": "code",
   "execution_count": 52,
   "id": "ccbf054f",
   "metadata": {},
   "outputs": [
    {
     "data": {
      "text/plain": [
       "Index(['region_id', 'product_id', 'category_id', 'order_id', 'ship_date',\n",
       "       'ship_mode', 'customer_id', 'segment', 'country', 'city', 'state',\n",
       "       'postal_code', 'sales', 'quantity', 'discount', 'profit', 'category',\n",
       "       'sub-category', 'product_name', 'region_name', 'month', 'year', 'day'],\n",
       "      dtype='object')"
      ]
     },
     "execution_count": 52,
     "metadata": {},
     "output_type": "execute_result"
    }
   ],
   "source": [
    "superstore_df.columns"
   ]
  },
  {
   "cell_type": "code",
   "execution_count": 53,
   "id": "05199392",
   "metadata": {},
   "outputs": [],
   "source": [
    "keeper_columns = ['sales', 'quantity','profit','month', 'year', 'day']"
   ]
  },
  {
   "cell_type": "code",
   "execution_count": 54,
   "id": "ec498bdb",
   "metadata": {},
   "outputs": [],
   "source": [
    "superstore_df_subset = superstore_df[keeper_columns]"
   ]
  },
  {
   "cell_type": "code",
   "execution_count": 55,
   "id": "e6fd7eab",
   "metadata": {},
   "outputs": [
    {
     "data": {
      "text/html": [
       "<div>\n",
       "<style scoped>\n",
       "    .dataframe tbody tr th:only-of-type {\n",
       "        vertical-align: middle;\n",
       "    }\n",
       "\n",
       "    .dataframe tbody tr th {\n",
       "        vertical-align: top;\n",
       "    }\n",
       "\n",
       "    .dataframe thead th {\n",
       "        text-align: right;\n",
       "    }\n",
       "</style>\n",
       "<table border=\"1\" class=\"dataframe\">\n",
       "  <thead>\n",
       "    <tr style=\"text-align: right;\">\n",
       "      <th></th>\n",
       "      <th>sales</th>\n",
       "      <th>quantity</th>\n",
       "      <th>profit</th>\n",
       "      <th>month</th>\n",
       "      <th>year</th>\n",
       "      <th>day</th>\n",
       "    </tr>\n",
       "    <tr>\n",
       "      <th>Order Date</th>\n",
       "      <th></th>\n",
       "      <th></th>\n",
       "      <th></th>\n",
       "      <th></th>\n",
       "      <th></th>\n",
       "      <th></th>\n",
       "    </tr>\n",
       "  </thead>\n",
       "  <tbody>\n",
       "    <tr>\n",
       "      <th>2014-01-04</th>\n",
       "      <td>272.736</td>\n",
       "      <td>3.0</td>\n",
       "      <td>-64.7748</td>\n",
       "      <td>January</td>\n",
       "      <td>2014</td>\n",
       "      <td>Saturday</td>\n",
       "    </tr>\n",
       "    <tr>\n",
       "      <th>2014-01-04</th>\n",
       "      <td>3.540</td>\n",
       "      <td>2.0</td>\n",
       "      <td>-5.4870</td>\n",
       "      <td>January</td>\n",
       "      <td>2014</td>\n",
       "      <td>Saturday</td>\n",
       "    </tr>\n",
       "    <tr>\n",
       "      <th>2014-01-04</th>\n",
       "      <td>11.784</td>\n",
       "      <td>3.0</td>\n",
       "      <td>4.2717</td>\n",
       "      <td>January</td>\n",
       "      <td>2014</td>\n",
       "      <td>Saturday</td>\n",
       "    </tr>\n",
       "    <tr>\n",
       "      <th>2014-01-09</th>\n",
       "      <td>31.200</td>\n",
       "      <td>3.0</td>\n",
       "      <td>9.7500</td>\n",
       "      <td>January</td>\n",
       "      <td>2014</td>\n",
       "      <td>Thursday</td>\n",
       "    </tr>\n",
       "    <tr>\n",
       "      <th>2014-01-09</th>\n",
       "      <td>9.344</td>\n",
       "      <td>2.0</td>\n",
       "      <td>1.1680</td>\n",
       "      <td>January</td>\n",
       "      <td>2014</td>\n",
       "      <td>Thursday</td>\n",
       "    </tr>\n",
       "    <tr>\n",
       "      <th>...</th>\n",
       "      <td>...</td>\n",
       "      <td>...</td>\n",
       "      <td>...</td>\n",
       "      <td>...</td>\n",
       "      <td>...</td>\n",
       "      <td>...</td>\n",
       "    </tr>\n",
       "    <tr>\n",
       "      <th>2017-12-30</th>\n",
       "      <td>52.776</td>\n",
       "      <td>3.0</td>\n",
       "      <td>19.7910</td>\n",
       "      <td>December</td>\n",
       "      <td>2017</td>\n",
       "      <td>Saturday</td>\n",
       "    </tr>\n",
       "    <tr>\n",
       "      <th>2017-12-30</th>\n",
       "      <td>90.930</td>\n",
       "      <td>7.0</td>\n",
       "      <td>2.7279</td>\n",
       "      <td>December</td>\n",
       "      <td>2017</td>\n",
       "      <td>Saturday</td>\n",
       "    </tr>\n",
       "    <tr>\n",
       "      <th>2017-12-30</th>\n",
       "      <td>323.136</td>\n",
       "      <td>4.0</td>\n",
       "      <td>12.1176</td>\n",
       "      <td>December</td>\n",
       "      <td>2017</td>\n",
       "      <td>Saturday</td>\n",
       "    </tr>\n",
       "    <tr>\n",
       "      <th>2017-12-30</th>\n",
       "      <td>209.300</td>\n",
       "      <td>2.0</td>\n",
       "      <td>56.5110</td>\n",
       "      <td>December</td>\n",
       "      <td>2017</td>\n",
       "      <td>Saturday</td>\n",
       "    </tr>\n",
       "    <tr>\n",
       "      <th>2017-12-30</th>\n",
       "      <td>20.720</td>\n",
       "      <td>2.0</td>\n",
       "      <td>6.4750</td>\n",
       "      <td>December</td>\n",
       "      <td>2017</td>\n",
       "      <td>Saturday</td>\n",
       "    </tr>\n",
       "  </tbody>\n",
       "</table>\n",
       "<p>1734 rows × 6 columns</p>\n",
       "</div>"
      ],
      "text/plain": [
       "              sales  quantity   profit     month  year       day\n",
       "Order Date                                                      \n",
       "2014-01-04  272.736       3.0 -64.7748   January  2014  Saturday\n",
       "2014-01-04    3.540       2.0  -5.4870   January  2014  Saturday\n",
       "2014-01-04   11.784       3.0   4.2717   January  2014  Saturday\n",
       "2014-01-09   31.200       3.0   9.7500   January  2014  Thursday\n",
       "2014-01-09    9.344       2.0   1.1680   January  2014  Thursday\n",
       "...             ...       ...      ...       ...   ...       ...\n",
       "2017-12-30   52.776       3.0  19.7910  December  2017  Saturday\n",
       "2017-12-30   90.930       7.0   2.7279  December  2017  Saturday\n",
       "2017-12-30  323.136       4.0  12.1176  December  2017  Saturday\n",
       "2017-12-30  209.300       2.0  56.5110  December  2017  Saturday\n",
       "2017-12-30   20.720       2.0   6.4750  December  2017  Saturday\n",
       "\n",
       "[1734 rows x 6 columns]"
      ]
     },
     "execution_count": 55,
     "metadata": {},
     "output_type": "execute_result"
    }
   ],
   "source": [
    "superstore_df_subset"
   ]
  },
  {
   "cell_type": "code",
   "execution_count": 56,
   "id": "a43aee39",
   "metadata": {},
   "outputs": [
    {
     "data": {
      "text/html": [
       "<div>\n",
       "<style scoped>\n",
       "    .dataframe tbody tr th:only-of-type {\n",
       "        vertical-align: middle;\n",
       "    }\n",
       "\n",
       "    .dataframe tbody tr th {\n",
       "        vertical-align: top;\n",
       "    }\n",
       "\n",
       "    .dataframe thead th {\n",
       "        text-align: right;\n",
       "    }\n",
       "</style>\n",
       "<table border=\"1\" class=\"dataframe\">\n",
       "  <thead>\n",
       "    <tr style=\"text-align: right;\">\n",
       "      <th></th>\n",
       "      <th>sales</th>\n",
       "      <th>quantity</th>\n",
       "      <th>profit</th>\n",
       "      <th>month</th>\n",
       "      <th>year</th>\n",
       "      <th>day</th>\n",
       "    </tr>\n",
       "    <tr>\n",
       "      <th>Order Date</th>\n",
       "      <th></th>\n",
       "      <th></th>\n",
       "      <th></th>\n",
       "      <th></th>\n",
       "      <th></th>\n",
       "      <th></th>\n",
       "    </tr>\n",
       "  </thead>\n",
       "  <tbody>\n",
       "    <tr>\n",
       "      <th>2014-01-04</th>\n",
       "      <td>272.736</td>\n",
       "      <td>3.0</td>\n",
       "      <td>-64.7748</td>\n",
       "      <td>January</td>\n",
       "      <td>2014</td>\n",
       "      <td>Saturday</td>\n",
       "    </tr>\n",
       "    <tr>\n",
       "      <th>2014-01-04</th>\n",
       "      <td>3.540</td>\n",
       "      <td>2.0</td>\n",
       "      <td>-5.4870</td>\n",
       "      <td>January</td>\n",
       "      <td>2014</td>\n",
       "      <td>Saturday</td>\n",
       "    </tr>\n",
       "    <tr>\n",
       "      <th>2014-01-04</th>\n",
       "      <td>11.784</td>\n",
       "      <td>3.0</td>\n",
       "      <td>4.2717</td>\n",
       "      <td>January</td>\n",
       "      <td>2014</td>\n",
       "      <td>Saturday</td>\n",
       "    </tr>\n",
       "    <tr>\n",
       "      <th>2014-01-09</th>\n",
       "      <td>31.200</td>\n",
       "      <td>3.0</td>\n",
       "      <td>9.7500</td>\n",
       "      <td>January</td>\n",
       "      <td>2014</td>\n",
       "      <td>Thursday</td>\n",
       "    </tr>\n",
       "    <tr>\n",
       "      <th>2014-01-09</th>\n",
       "      <td>9.344</td>\n",
       "      <td>2.0</td>\n",
       "      <td>1.1680</td>\n",
       "      <td>January</td>\n",
       "      <td>2014</td>\n",
       "      <td>Thursday</td>\n",
       "    </tr>\n",
       "    <tr>\n",
       "      <th>...</th>\n",
       "      <td>...</td>\n",
       "      <td>...</td>\n",
       "      <td>...</td>\n",
       "      <td>...</td>\n",
       "      <td>...</td>\n",
       "      <td>...</td>\n",
       "    </tr>\n",
       "    <tr>\n",
       "      <th>2017-12-30</th>\n",
       "      <td>52.776</td>\n",
       "      <td>3.0</td>\n",
       "      <td>19.7910</td>\n",
       "      <td>December</td>\n",
       "      <td>2017</td>\n",
       "      <td>Saturday</td>\n",
       "    </tr>\n",
       "    <tr>\n",
       "      <th>2017-12-30</th>\n",
       "      <td>90.930</td>\n",
       "      <td>7.0</td>\n",
       "      <td>2.7279</td>\n",
       "      <td>December</td>\n",
       "      <td>2017</td>\n",
       "      <td>Saturday</td>\n",
       "    </tr>\n",
       "    <tr>\n",
       "      <th>2017-12-30</th>\n",
       "      <td>323.136</td>\n",
       "      <td>4.0</td>\n",
       "      <td>12.1176</td>\n",
       "      <td>December</td>\n",
       "      <td>2017</td>\n",
       "      <td>Saturday</td>\n",
       "    </tr>\n",
       "    <tr>\n",
       "      <th>2017-12-30</th>\n",
       "      <td>209.300</td>\n",
       "      <td>2.0</td>\n",
       "      <td>56.5110</td>\n",
       "      <td>December</td>\n",
       "      <td>2017</td>\n",
       "      <td>Saturday</td>\n",
       "    </tr>\n",
       "    <tr>\n",
       "      <th>2017-12-30</th>\n",
       "      <td>20.720</td>\n",
       "      <td>2.0</td>\n",
       "      <td>6.4750</td>\n",
       "      <td>December</td>\n",
       "      <td>2017</td>\n",
       "      <td>Saturday</td>\n",
       "    </tr>\n",
       "  </tbody>\n",
       "</table>\n",
       "<p>1734 rows × 6 columns</p>\n",
       "</div>"
      ],
      "text/plain": [
       "              sales  quantity   profit     month  year       day\n",
       "Order Date                                                      \n",
       "2014-01-04  272.736       3.0 -64.7748   January  2014  Saturday\n",
       "2014-01-04    3.540       2.0  -5.4870   January  2014  Saturday\n",
       "2014-01-04   11.784       3.0   4.2717   January  2014  Saturday\n",
       "2014-01-09   31.200       3.0   9.7500   January  2014  Thursday\n",
       "2014-01-09    9.344       2.0   1.1680   January  2014  Thursday\n",
       "...             ...       ...      ...       ...   ...       ...\n",
       "2017-12-30   52.776       3.0  19.7910  December  2017  Saturday\n",
       "2017-12-30   90.930       7.0   2.7279  December  2017  Saturday\n",
       "2017-12-30  323.136       4.0  12.1176  December  2017  Saturday\n",
       "2017-12-30  209.300       2.0  56.5110  December  2017  Saturday\n",
       "2017-12-30   20.720       2.0   6.4750  December  2017  Saturday\n",
       "\n",
       "[1734 rows x 6 columns]"
      ]
     },
     "execution_count": 56,
     "metadata": {},
     "output_type": "execute_result"
    }
   ],
   "source": [
    "superstore_df_subset"
   ]
  },
  {
   "cell_type": "code",
   "execution_count": 69,
   "id": "88bc24cf",
   "metadata": {},
   "outputs": [],
   "source": [
    "unique_quantity = superstore_df_subset['quantity'].unique().astype(str)"
   ]
  },
  {
   "cell_type": "code",
   "execution_count": 70,
   "id": "01e4ed00",
   "metadata": {},
   "outputs": [
    {
     "data": {
      "text/plain": [
       "array(['3.0', '2.0', '1.0', '6.0', '7.0', '4.0', '5.0', '10.0', '12.0',\n",
       "       '13.0', '8.0', '9.0', '11.0', '14.0'], dtype='<U32')"
      ]
     },
     "execution_count": 70,
     "metadata": {},
     "output_type": "execute_result"
    }
   ],
   "source": [
    "unique_quantity"
   ]
  },
  {
   "cell_type": "code",
   "execution_count": 64,
   "id": "798af324",
   "metadata": {},
   "outputs": [],
   "source": [
    "from wordcloud import WordCloud, STOPWORDS, ImageColorGenerator"
   ]
  },
  {
   "cell_type": "code",
   "execution_count": 71,
   "id": "41afc2e6",
   "metadata": {},
   "outputs": [
    {
     "ename": "ValueError",
     "evalue": "We need at least 1 word to plot a word cloud, got 0.",
     "output_type": "error",
     "traceback": [
      "\u001b[0;31m---------------------------------------------------------------------------\u001b[0m",
      "\u001b[0;31mValueError\u001b[0m                                Traceback (most recent call last)",
      "Cell \u001b[0;32mIn[71], line 2\u001b[0m\n\u001b[1;32m      1\u001b[0m plt\u001b[38;5;241m.\u001b[39msubplots(figsize\u001b[38;5;241m=\u001b[39m(\u001b[38;5;241m15\u001b[39m,\u001b[38;5;241m15\u001b[39m))\n\u001b[0;32m----> 2\u001b[0m wordcloud \u001b[38;5;241m=\u001b[39m \u001b[43mWordCloud\u001b[49m\u001b[43m(\u001b[49m\n\u001b[1;32m      3\u001b[0m \u001b[43m                          \u001b[49m\u001b[43mbackground_color\u001b[49m\u001b[38;5;241;43m=\u001b[39;49m\u001b[38;5;124;43m'\u001b[39;49m\u001b[38;5;124;43m#000\u001b[39;49m\u001b[38;5;124;43m'\u001b[39;49m\u001b[43m,\u001b[49m\n\u001b[1;32m      4\u001b[0m \u001b[43m                          \u001b[49m\u001b[43mwidth\u001b[49m\u001b[38;5;241;43m=\u001b[39;49m\u001b[38;5;241;43m650\u001b[39;49m\u001b[43m,\u001b[49m\n\u001b[1;32m      5\u001b[0m \u001b[43m                          \u001b[49m\u001b[43mheight\u001b[49m\u001b[38;5;241;43m=\u001b[39;49m\u001b[38;5;241;43m550\u001b[39;49m\u001b[43m,\u001b[49m\n\u001b[1;32m      6\u001b[0m \u001b[43m                          \u001b[49m\u001b[43mstopwords\u001b[49m\u001b[38;5;241;43m=\u001b[39;49m\u001b[43mSTOPWORDS\u001b[49m\u001b[43m,\u001b[49m\n\u001b[1;32m      7\u001b[0m \u001b[43m                         \u001b[49m\u001b[43m)\u001b[49m\u001b[38;5;241;43m.\u001b[39;49m\u001b[43mgenerate\u001b[49m\u001b[43m(\u001b[49m\u001b[38;5;124;43m\"\u001b[39;49m\u001b[38;5;124;43m \u001b[39;49m\u001b[38;5;124;43m\"\u001b[39;49m\u001b[38;5;241;43m.\u001b[39;49m\u001b[43mjoin\u001b[49m\u001b[43m(\u001b[49m\u001b[43munique_quantity\u001b[49m\u001b[43m)\u001b[49m\u001b[43m)\u001b[49m\n\u001b[1;32m      8\u001b[0m plt\u001b[38;5;241m.\u001b[39mimshow(wordcloud)\n\u001b[1;32m      9\u001b[0m plt\u001b[38;5;241m.\u001b[39maxis(\u001b[38;5;124m'\u001b[39m\u001b[38;5;124moff\u001b[39m\u001b[38;5;124m'\u001b[39m)\n",
      "File \u001b[0;32m/opt/homebrew/anaconda3/lib/python3.9/site-packages/wordcloud/wordcloud.py:639\u001b[0m, in \u001b[0;36mWordCloud.generate\u001b[0;34m(self, text)\u001b[0m\n\u001b[1;32m    624\u001b[0m \u001b[38;5;28;01mdef\u001b[39;00m \u001b[38;5;21mgenerate\u001b[39m(\u001b[38;5;28mself\u001b[39m, text):\n\u001b[1;32m    625\u001b[0m     \u001b[38;5;124;03m\"\"\"Generate wordcloud from text.\u001b[39;00m\n\u001b[1;32m    626\u001b[0m \n\u001b[1;32m    627\u001b[0m \u001b[38;5;124;03m    The input \"text\" is expected to be a natural text. If you pass a sorted\u001b[39;00m\n\u001b[0;32m   (...)\u001b[0m\n\u001b[1;32m    637\u001b[0m \u001b[38;5;124;03m    self\u001b[39;00m\n\u001b[1;32m    638\u001b[0m \u001b[38;5;124;03m    \"\"\"\u001b[39;00m\n\u001b[0;32m--> 639\u001b[0m     \u001b[38;5;28;01mreturn\u001b[39;00m \u001b[38;5;28;43mself\u001b[39;49m\u001b[38;5;241;43m.\u001b[39;49m\u001b[43mgenerate_from_text\u001b[49m\u001b[43m(\u001b[49m\u001b[43mtext\u001b[49m\u001b[43m)\u001b[49m\n",
      "File \u001b[0;32m/opt/homebrew/anaconda3/lib/python3.9/site-packages/wordcloud/wordcloud.py:621\u001b[0m, in \u001b[0;36mWordCloud.generate_from_text\u001b[0;34m(self, text)\u001b[0m\n\u001b[1;32m    604\u001b[0m \u001b[38;5;124;03m\"\"\"Generate wordcloud from text.\u001b[39;00m\n\u001b[1;32m    605\u001b[0m \n\u001b[1;32m    606\u001b[0m \u001b[38;5;124;03mThe input \"text\" is expected to be a natural text. If you pass a sorted\u001b[39;00m\n\u001b[0;32m   (...)\u001b[0m\n\u001b[1;32m    618\u001b[0m \u001b[38;5;124;03mself\u001b[39;00m\n\u001b[1;32m    619\u001b[0m \u001b[38;5;124;03m\"\"\"\u001b[39;00m\n\u001b[1;32m    620\u001b[0m words \u001b[38;5;241m=\u001b[39m \u001b[38;5;28mself\u001b[39m\u001b[38;5;241m.\u001b[39mprocess_text(text)\n\u001b[0;32m--> 621\u001b[0m \u001b[38;5;28;43mself\u001b[39;49m\u001b[38;5;241;43m.\u001b[39;49m\u001b[43mgenerate_from_frequencies\u001b[49m\u001b[43m(\u001b[49m\u001b[43mwords\u001b[49m\u001b[43m)\u001b[49m\n\u001b[1;32m    622\u001b[0m \u001b[38;5;28;01mreturn\u001b[39;00m \u001b[38;5;28mself\u001b[39m\n",
      "File \u001b[0;32m/opt/homebrew/anaconda3/lib/python3.9/site-packages/wordcloud/wordcloud.py:410\u001b[0m, in \u001b[0;36mWordCloud.generate_from_frequencies\u001b[0;34m(self, frequencies, max_font_size)\u001b[0m\n\u001b[1;32m    408\u001b[0m frequencies \u001b[38;5;241m=\u001b[39m \u001b[38;5;28msorted\u001b[39m(frequencies\u001b[38;5;241m.\u001b[39mitems(), key\u001b[38;5;241m=\u001b[39mitemgetter(\u001b[38;5;241m1\u001b[39m), reverse\u001b[38;5;241m=\u001b[39m\u001b[38;5;28;01mTrue\u001b[39;00m)\n\u001b[1;32m    409\u001b[0m \u001b[38;5;28;01mif\u001b[39;00m \u001b[38;5;28mlen\u001b[39m(frequencies) \u001b[38;5;241m<\u001b[39m\u001b[38;5;241m=\u001b[39m \u001b[38;5;241m0\u001b[39m:\n\u001b[0;32m--> 410\u001b[0m     \u001b[38;5;28;01mraise\u001b[39;00m \u001b[38;5;167;01mValueError\u001b[39;00m(\u001b[38;5;124m\"\u001b[39m\u001b[38;5;124mWe need at least 1 word to plot a word cloud, \u001b[39m\u001b[38;5;124m\"\u001b[39m\n\u001b[1;32m    411\u001b[0m                      \u001b[38;5;124m\"\u001b[39m\u001b[38;5;124mgot \u001b[39m\u001b[38;5;132;01m%d\u001b[39;00m\u001b[38;5;124m.\u001b[39m\u001b[38;5;124m\"\u001b[39m \u001b[38;5;241m%\u001b[39m \u001b[38;5;28mlen\u001b[39m(frequencies))\n\u001b[1;32m    412\u001b[0m frequencies \u001b[38;5;241m=\u001b[39m frequencies[:\u001b[38;5;28mself\u001b[39m\u001b[38;5;241m.\u001b[39mmax_words]\n\u001b[1;32m    414\u001b[0m \u001b[38;5;66;03m# largest entry will be 1\u001b[39;00m\n",
      "\u001b[0;31mValueError\u001b[0m: We need at least 1 word to plot a word cloud, got 0."
     ]
    },
    {
     "data": {
      "image/png": "[encoded data removed]",
      "text/plain": [
       "<Figure size 1500x1500 with 1 Axes>"
      ]
     },
     "metadata": {},
     "output_type": "display_data"
    }
   ],
   "source": [
    "plt.subplots(figsize=(15,15))\n",
    "wordcloud = WordCloud(\n",
    "                          background_color='#000',\n",
    "                          width=650,\n",
    "                          height=550,\n",
    "                          stopwords=STOPWORDS,\n",
    "                         ).generate(\" \".join(unique_quantity))\n",
    "plt.imshow(wordcloud)\n",
    "plt.axis('off')\n",
    "plt.savefig('graph.png')\n",
    "\n",
    "plt.figtext(.5,.91,'Data cloud of Quantities', color='#062175', fontsize=25, ha='center')\n",
    "plt.show()"
   ]
  },
  {
   "cell_type": "code",
   "execution_count": 63,
   "id": "d82144cb",
   "metadata": {},
   "outputs": [
    {
     "data": {
      "text/plain": [
       "<AxesSubplot: xlabel='Lag', ylabel='Autocorrelation'>"
      ]
     },
     "execution_count": 63,
     "metadata": {},
     "output_type": "execute_result"
    },
    {
     "data": {
      "image/png": "[encoded data removed]",
      "text/plain": [
       "<Figure size 640x480 with 1 Axes>"
      ]
     },
     "metadata": {},
     "output_type": "display_data"
    }
   ],
   "source": [
    "pd.plotting.autocorrelation_plot(superstore_df_subset.resample('Y').mean())"
   ]
  },
  {
   "cell_type": "code",
   "execution_count": 82,
   "id": "92335e70",
   "metadata": {},
   "outputs": [],
   "source": [
    "only_sales = superstore_df_subset[superstore_df_subset['sales']>0]['sales']"
   ]
  },
  {
   "cell_type": "code",
   "execution_count": 89,
   "id": "9008e43c",
   "metadata": {},
   "outputs": [],
   "source": [
    "only_sales_nonzero = only_sales.resample('W').mean()[only_sales.resample('W').mean()>0]"
   ]
  },
  {
   "cell_type": "code",
   "execution_count": 90,
   "id": "008b2977",
   "metadata": {},
   "outputs": [
    {
     "ename": "ValueError",
     "evalue": "You must specify a period or x must be a pandas object with a PeriodIndex or a DatetimeIndex with a freq not set to None",
     "output_type": "error",
     "traceback": [
      "\u001b[0;31m---------------------------------------------------------------------------\u001b[0m",
      "\u001b[0;31mValueError\u001b[0m                                Traceback (most recent call last)",
      "Cell \u001b[0;32mIn[90], line 1\u001b[0m\n\u001b[0;32m----> 1\u001b[0m result \u001b[38;5;241m=\u001b[39m \u001b[43msm\u001b[49m\u001b[38;5;241;43m.\u001b[39;49m\u001b[43mtsa\u001b[49m\u001b[38;5;241;43m.\u001b[39;49m\u001b[43mseasonal_decompose\u001b[49m\u001b[43m(\u001b[49m\u001b[43monly_sales_nonzero\u001b[49m\u001b[43m)\u001b[49m\n\u001b[1;32m      2\u001b[0m result\u001b[38;5;241m.\u001b[39mplot()\n",
      "File \u001b[0;32m/opt/homebrew/anaconda3/lib/python3.9/site-packages/statsmodels/tsa/seasonal.py:159\u001b[0m, in \u001b[0;36mseasonal_decompose\u001b[0;34m(x, model, filt, period, two_sided, extrapolate_trend)\u001b[0m\n\u001b[1;32m    157\u001b[0m         period \u001b[38;5;241m=\u001b[39m pfreq\n\u001b[1;32m    158\u001b[0m     \u001b[38;5;28;01melse\u001b[39;00m:\n\u001b[0;32m--> 159\u001b[0m         \u001b[38;5;28;01mraise\u001b[39;00m \u001b[38;5;167;01mValueError\u001b[39;00m(\n\u001b[1;32m    160\u001b[0m             \u001b[38;5;124m\"\u001b[39m\u001b[38;5;124mYou must specify a period or x must be a pandas object with \u001b[39m\u001b[38;5;124m\"\u001b[39m\n\u001b[1;32m    161\u001b[0m             \u001b[38;5;124m\"\u001b[39m\u001b[38;5;124ma PeriodIndex or a DatetimeIndex with a freq not set to None\u001b[39m\u001b[38;5;124m\"\u001b[39m\n\u001b[1;32m    162\u001b[0m         )\n\u001b[1;32m    163\u001b[0m \u001b[38;5;28;01mif\u001b[39;00m x\u001b[38;5;241m.\u001b[39mshape[\u001b[38;5;241m0\u001b[39m] \u001b[38;5;241m<\u001b[39m \u001b[38;5;241m2\u001b[39m \u001b[38;5;241m*\u001b[39m pfreq:\n\u001b[1;32m    164\u001b[0m     \u001b[38;5;28;01mraise\u001b[39;00m \u001b[38;5;167;01mValueError\u001b[39;00m(\n\u001b[1;32m    165\u001b[0m         \u001b[38;5;124mf\u001b[39m\u001b[38;5;124m\"\u001b[39m\u001b[38;5;124mx must have 2 complete cycles requires \u001b[39m\u001b[38;5;132;01m{\u001b[39;00m\u001b[38;5;241m2\u001b[39m \u001b[38;5;241m*\u001b[39m pfreq\u001b[38;5;132;01m}\u001b[39;00m\u001b[38;5;124m \u001b[39m\u001b[38;5;124m\"\u001b[39m\n\u001b[1;32m    166\u001b[0m         \u001b[38;5;124mf\u001b[39m\u001b[38;5;124m\"\u001b[39m\u001b[38;5;124mobservations. x only has \u001b[39m\u001b[38;5;132;01m{\u001b[39;00mx\u001b[38;5;241m.\u001b[39mshape[\u001b[38;5;241m0\u001b[39m]\u001b[38;5;132;01m}\u001b[39;00m\u001b[38;5;124m observation(s)\u001b[39m\u001b[38;5;124m\"\u001b[39m\n\u001b[1;32m    167\u001b[0m     )\n",
      "\u001b[0;31mValueError\u001b[0m: You must specify a period or x must be a pandas object with a PeriodIndex or a DatetimeIndex with a freq not set to None"
     ]
    }
   ],
   "source": [
    "result = sm.tsa.seasonal_decompose(only_sales_nonzero)\n",
    "result.plot()"
   ]
  },
  {
   "cell_type": "markdown",
   "id": "1d161c1a",
   "metadata": {},
   "source": [
    "### Are there any additional metrics should we track?"
   ]
  },
  {
   "cell_type": "code",
   "execution_count": null,
   "id": "08984d3b",
   "metadata": {},
   "outputs": [],
   "source": []
  }
 ],
 "metadata": {
  "kernelspec": {
   "display_name": "Python 3 (ipykernel)",
   "language": "python",
   "name": "python3"
  },
  "language_info": {
   "codemirror_mode": {
    "name": "ipython",
    "version": 3
   },
   "file_extension": ".py",
   "mimetype": "text/x-python",
   "name": "python",
   "nbconvert_exporter": "python",
   "pygments_lexer": "ipython3",
   "version": "3.9.15"
  }
 },
 "nbformat": 4,
 "nbformat_minor": 5
}
