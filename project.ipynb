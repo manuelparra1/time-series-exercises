{
 "cells": [
  {
   "cell_type": "markdown",
   "id": "d9fff7e0",
   "metadata": {},
   "source": [
    "<div>\n",
    "<img src=\"Sales.png\" width=\"600\" align=\"left\"/>\n",
    "</div>"
   ]
  },
  {
   "cell_type": "markdown",
   "id": "323d0c13",
   "metadata": {},
   "source": [
    "# Next Years Sales Goals"
   ]
  },
  {
   "cell_type": "markdown",
   "id": "74b751f3",
   "metadata": {},
   "source": [
    "## VP of Sales:"
   ]
  },
  {
   "cell_type": "code",
   "execution_count": 35,
   "id": "19f117aa",
   "metadata": {},
   "outputs": [],
   "source": [
    "import numpy as np\n",
    "import pandas as pd\n",
    "\n",
    "from env import *\n",
    "from acquire import *\n",
    "from prepare import *"
   ]
  },
  {
   "cell_type": "code",
   "execution_count": 36,
   "id": "3c62a87b",
   "metadata": {},
   "outputs": [],
   "source": [
    "def get_superstore_data():\n",
    "    filename = 'superstore_data.csv'\n",
    "    \n",
    "    if not os.path.exists(filename):\n",
    "        sql_db = \"superstore_db\"\n",
    "        url = get_db_url(sql_db)\n",
    "        \n",
    "        query = '''\n",
    "                    SELECT * \n",
    "                    FROM orders\n",
    "                    JOIN categories USING(`Category ID`)\n",
    "                    JOIN products USING(`Product ID`)\n",
    "                    JOIN regions USING(`Region ID`)\n",
    "                '''\n",
    "\n",
    "        df = pd.read_sql(query,url)\n",
    "        df.to_csv(filename, index=False)\n",
    "        print(f\"Saving {filename}...\")\n",
    "        return df\n",
    "    \n",
    "    else:\n",
    "        print(f\"File {filename} already exists. Loading {filename}...\")\n",
    "        \n",
    "        return pd.read_csv(filename,index_col=False)"
   ]
  },
  {
   "cell_type": "code",
   "execution_count": 37,
   "id": "76dc6891",
   "metadata": {},
   "outputs": [],
   "source": [
    "def clean_superstore_data(df):\n",
    "    # set datetime data type\n",
    "    df['Order Date']=pd.to_datetime(df['Order Date'])\n",
    "    \n",
    "    # set 'Date' column as index and sorted\n",
    "    df = df.set_index(\"Order Date\").sort_index()\n",
    "    \n",
    "    # feature engineering: added 'month' column using index\n",
    "    df['month'] = df.index.month\n",
    "    \n",
    "    # feature engineering: added 'year' column using index\n",
    "    df['year'] = df.index.year\n",
    "    \n",
    "    # feature engineering: added 'year' column using index\n",
    "    df['day'] = df.index.day\n",
    "    \n",
    "    # rename columns to python naming conventions ie: snake_case\n",
    "    df.columns = (df.columns\n",
    "                .str.replace(' ', '_', regex=True)\n",
    "                .str.lower()\n",
    "             )\n",
    "    return df"
   ]
  },
  {
   "cell_type": "code",
   "execution_count": 38,
   "id": "678c6380",
   "metadata": {},
   "outputs": [
    {
     "name": "stdout",
     "output_type": "stream",
     "text": [
      "Saving superstore_data.csv...\n"
     ]
    }
   ],
   "source": [
    "superstore_df = get_superstore_data()"
   ]
  },
  {
   "cell_type": "code",
   "execution_count": 32,
   "id": "00246736",
   "metadata": {},
   "outputs": [],
   "source": [
    "superstore_df = clean_superstore_data(superstore_df)"
   ]
  },
  {
   "cell_type": "markdown",
   "id": "56c1474c",
   "metadata": {},
   "source": [
    "### What should our sales goals for 2018 be?"
   ]
  },
  {
   "cell_type": "code",
   "execution_count": null,
   "id": "ccbf054f",
   "metadata": {},
   "outputs": [],
   "source": []
  },
  {
   "cell_type": "markdown",
   "id": "1d161c1a",
   "metadata": {},
   "source": [
    "### Are there any additional metrics should we track?"
   ]
  },
  {
   "cell_type": "code",
   "execution_count": null,
   "id": "0adde171",
   "metadata": {},
   "outputs": [],
   "source": []
  }
 ],
 "metadata": {
  "kernelspec": {
   "display_name": "Python 3 (ipykernel)",
   "language": "python",
   "name": "python3"
  },
  "language_info": {
   "codemirror_mode": {
    "name": "ipython",
    "version": 3
   },
   "file_extension": ".py",
   "mimetype": "text/x-python",
   "name": "python",
   "nbconvert_exporter": "python",
   "pygments_lexer": "ipython3",
   "version": "3.9.15"
  }
 },
 "nbformat": 4,
 "nbformat_minor": 5
}
