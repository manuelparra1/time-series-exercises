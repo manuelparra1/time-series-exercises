{
 "cells": [
  {
   "cell_type": "markdown",
   "id": "a49046e8",
   "metadata": {},
   "source": [
    "<a id=\"top\"></a>\n",
    "## Horizontal Line"
   ]
  },
  {
   "cell_type": "markdown",
   "id": "45f8fb02",
   "metadata": {},
   "source": [
    "<hr style=\"border:2px solid gray\">"
   ]
  },
  {
   "cell_type": "markdown",
   "id": "3a807449",
   "metadata": {},
   "source": [
    "## Blue Box"
   ]
  },
  {
   "cell_type": "markdown",
   "id": "75285905",
   "metadata": {},
   "source": [
    "<div class=\"alert alert-block alert-info\">\n",
    "Content\n",
    "</div>"
   ]
  },
  {
   "cell_type": "markdown",
   "id": "a5d78d9a",
   "metadata": {},
   "source": [
    "## Green Box"
   ]
  },
  {
   "cell_type": "markdown",
   "id": "6f6dcf35",
   "metadata": {},
   "source": [
    "<div class=\"alert alert-block alert-success\">\n",
    "\n",
    "<b>Bold Content</b>\n",
    "    \n",
    "Content\n",
    "</div> "
   ]
  },
  {
   "cell_type": "markdown",
   "id": "04d59bf4",
   "metadata": {},
   "source": [
    "## Yellow Box"
   ]
  },
  {
   "cell_type": "markdown",
   "id": "5c7f1499",
   "metadata": {},
   "source": [
    "<div class=\"alert alert-block alert-warning\">\n",
    "<b>Example:</b> Use yellow boxes for examples that are not \n",
    "inside code cells, or use for mathematical formulas if needed.\n",
    "</div>"
   ]
  },
  {
   "cell_type": "markdown",
   "id": "ad391395",
   "metadata": {},
   "source": [
    "## Red Box"
   ]
  },
  {
   "cell_type": "markdown",
   "id": "80454d36",
   "metadata": {},
   "source": [
    "<div class=\"alert alert-block alert-danger\">\n",
    "<b>Just don't:</b> In general, avoid the red boxes. These should only be\n",
    "used for actions that might cause data loss or another major issue.\n",
    "</div>"
   ]
  },
  {
   "cell_type": "markdown",
   "id": "8fee63a9",
   "metadata": {},
   "source": [
    "<p>I will display &#9673;</p>"
   ]
  },
  {
   "cell_type": "markdown",
   "id": "cd33f9a1",
   "metadata": {},
   "source": [
    "# Link Sections"
   ]
  },
  {
   "cell_type": "markdown",
   "id": "2e1a0b8e",
   "metadata": {},
   "source": [
    "## A. Destination\n",
    "```html\n",
    "\n",
    "<a id=\"top\"></a>\n",
    "\n",
    "```"
   ]
  },
  {
   "cell_type": "markdown",
   "id": "bb27684c",
   "metadata": {},
   "source": [
    "## B. Source Link"
   ]
  },
  {
   "cell_type": "markdown",
   "id": "eb761403",
   "metadata": {},
   "source": [
    "```html\n",
    "[Top](#top)\n",
    "```"
   ]
  },
  {
   "cell_type": "markdown",
   "id": "4a96e92b",
   "metadata": {},
   "source": [
    "[Top](#top)"
   ]
  },
  {
   "cell_type": "markdown",
   "id": "41f1e945",
   "metadata": {},
   "source": [
    "# Black Horizontal Line"
   ]
  },
  {
   "cell_type": "markdown",
   "id": "8d75a0c1",
   "metadata": {},
   "source": [
    "<hr style=\"border:2px solid black\">"
   ]
  },
  {
   "cell_type": "markdown",
   "id": "87c62318",
   "metadata": {},
   "source": [
    "# Hide All Raw Code - Button"
   ]
  },
  {
   "cell_type": "markdown",
   "id": "ac979980",
   "metadata": {},
   "source": [
    "```html\n",
    "from IPython.display import HTML\n",
    "\n",
    "HTML('''<script>\n",
    "code_show=true; \n",
    "function code_toggle() {\n",
    " if (code_show){\n",
    " $('div.input').hide();\n",
    " } else {\n",
    " $('div.input').show();\n",
    " }\n",
    " code_show = !code_show\n",
    "} \n",
    "$( document ).ready(code_toggle);\n",
    "</script>\n",
    "<form action=\"javascript:code_toggle()\"><input type=\"submit\" value=\"Raw Code\"></form>''')\n",
    "```"
   ]
  },
  {
   "cell_type": "markdown",
   "id": "20271bad",
   "metadata": {},
   "source": [
    "# Hide All Raw Code"
   ]
  },
  {
   "cell_type": "markdown",
   "id": "20cc647a",
   "metadata": {},
   "source": [
    "```html\n",
    "%%html\n",
    "<style>\n",
    "div.input {\n",
    "    display:none;\n",
    "}\n",
    "</style>\n",
    "```"
   ]
  },
  {
   "cell_type": "code",
   "execution_count": null,
   "id": "751d1700",
   "metadata": {},
   "outputs": [],
   "source": []
  }
 ],
 "metadata": {
  "kernelspec": {
   "display_name": "Python 3 (ipykernel)",
   "language": "python",
   "name": "python3"
  },
  "language_info": {
   "codemirror_mode": {
    "name": "ipython",
    "version": 3
   },
   "file_extension": ".py",
   "mimetype": "text/x-python",
   "name": "python",
   "nbconvert_exporter": "python",
   "pygments_lexer": "ipython3",
   "version": "3.9.15"
  }
 },
 "nbformat": 4,
 "nbformat_minor": 5
}
