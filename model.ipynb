{
 "cells": [
  {
   "cell_type": "markdown",
   "id": "111c02d0",
   "metadata": {},
   "source": [
    "# Exercises"
   ]
  },
  {
   "cell_type": "markdown",
   "id": "97656702",
   "metadata": {},
   "source": [
    "### The end result of this exercise should be a Jupyter notebook named model.\n",
    "### Use either the SAAS dataset or the store data and:"
   ]
  },
  {
   "cell_type": "markdown",
   "id": "8e924d22",
   "metadata": {},
   "source": [
    "# 1. Split data (train/validate/test) and resample by any period except daily. Aggregate using the sum."
   ]
  },
  {
   "cell_type": "code",
   "execution_count": null,
   "id": "3beb5fcc",
   "metadata": {},
   "outputs": [],
   "source": [
    "# split settings\n",
    "train_size = int(len(df) * .5)\n",
    "validate_size = int(len(df) * .3)\n",
    "test_size = int(len(df) - train_size - validate_size)\n",
    "validate_end_index = train_size + validate_size\n",
    "\n",
    "# split into train, validation, test\n",
    "train = df[: train_size]\n",
    "validate = df[train_size : validate_end_index]\n",
    "test = df[validate_end_index : ]"
   ]
  },
  {
   "cell_type": "markdown",
   "id": "6eda10f4",
   "metadata": {},
   "source": [
    "# 2. Forecast, plot and evaluate using each of the 4 parametric based methods we discussed:"
   ]
  },
  {
   "cell_type": "markdown",
   "id": "8b29acc8",
   "metadata": {},
   "source": [
    "## a. Simple Average"
   ]
  },
  {
   "cell_type": "code",
   "execution_count": null,
   "id": "20977d88",
   "metadata": {},
   "outputs": [],
   "source": [
    "items = round(train['items_sold'].mean(), 2)\n",
    "dollars = round(train['dollars_sold'].mean(), 2)\n",
    "\n",
    "\n",
    "yhat_df = pd.DataFrame({'items_sold': [items],\n",
    "                            'dollars_sold': [dollars],\n",
    "                           }, index = validate.index)\n",
    "\n",
    "yhat_df.head(3)\n"
   ]
  },
  {
   "cell_type": "code",
   "execution_count": null,
   "id": "46142f10",
   "metadata": {},
   "outputs": [],
   "source": [
    "for col in train.columns:\n",
    "    plot_and_eval(col)\n"
   ]
  },
  {
   "cell_type": "code",
   "execution_count": null,
   "id": "c5441626",
   "metadata": {},
   "outputs": [],
   "source": [
    "for col in train.columns:\n",
    "    eval_df = append_eval_df(model_type='simple_average', \n",
    "                             target_var = col)\n",
    "eval_df\n"
   ]
  },
  {
   "cell_type": "code",
   "execution_count": null,
   "id": "d2a07afc",
   "metadata": {},
   "outputs": [],
   "source": []
  },
  {
   "cell_type": "markdown",
   "id": "cc50483c",
   "metadata": {},
   "source": [
    "## b. Moving Average"
   ]
  },
  {
   "cell_type": "code",
   "execution_count": null,
   "id": "7e848332",
   "metadata": {},
   "outputs": [],
   "source": [
    "# compute a 30 day rolling average, \n",
    "# use the most recent/last 30 day period value to predict forward. \n",
    "\n",
    "period = 30\n",
    "\n",
    "items = round(train['items_sold'].rolling(period).mean().iloc[-1], 2)\n",
    "dollars = round(train['dollars_sold'].rolling(period).mean().iloc[-1], 2)\n",
    "\n",
    "# yhat_df = make_predictions()\n",
    "\n",
    "yhat_df = pd.DataFrame({'items_sold': [items],\n",
    "                            'dollars_sold': [dollars],\n",
    "                           }, index = validate.index)\n",
    "yhat_df.head(2)\n"
   ]
  },
  {
   "cell_type": "code",
   "execution_count": null,
   "id": "a42d08ec",
   "metadata": {},
   "outputs": [],
   "source": [
    "for col in train.columns:\n",
    "    plot_and_eval(col)\n"
   ]
  },
  {
   "cell_type": "code",
   "execution_count": null,
   "id": "e42899bb",
   "metadata": {},
   "outputs": [],
   "source": [
    "for col in train.columns:\n",
    "    eval_df = append_eval_df(model_type='30d moving average', \n",
    "                             target_var = col)\n",
    "eval_df\n"
   ]
  },
  {
   "cell_type": "code",
   "execution_count": null,
   "id": "a0dd7ca2",
   "metadata": {},
   "outputs": [],
   "source": [
    "periods = [1, 4, 12, 26, 52, 104]\n",
    "\n",
    "for p in periods:\n",
    "    items = round(train['items_sold'].rolling(p).mean().iloc[-1], 2)\n",
    "    dollars = round(train['dollars_sold'].rolling(p).mean().iloc[-1], 2)\n",
    "\n",
    "    yhat_df = pd.DataFrame({'items_sold': [items],\n",
    "                            'dollars_sold': [dollars],\n",
    "                           }, index = validate.index)\n",
    "\n",
    "    model_type = str(p) + 'd moving average'\n",
    "    eval_df = append_eval_df(model_type = model_type,\n",
    "                             target_var = 'items_sold'\n",
    "                            )\n",
    "    eval_df = append_eval_df(model_type = model_type,\n",
    "                             target_var = 'dollars_sold'\n",
    "                            )\n"
   ]
  },
  {
   "cell_type": "code",
   "execution_count": null,
   "id": "300654a5",
   "metadata": {},
   "outputs": [],
   "source": [
    "# get the min rmse for each variable\n",
    "\n",
    "min_rmse_dollars_sold = eval_df.groupby('target_var')['rmse'].min()[0]\n",
    "min_rmse_items_sold = eval_df.groupby('target_var')['rmse'].min()[1]\n",
    "\n",
    "# filter only the rows that match those rmse to find out \n",
    "# which models are best thus far\n",
    "eval_df[((eval_df.rmse == min_rmse_dollars_sold) | \n",
    "         (eval_df.rmse == min_rmse_items_sold)\n",
    "        )]\n"
   ]
  },
  {
   "cell_type": "code",
   "execution_count": null,
   "id": "5fdf6aa3",
   "metadata": {},
   "outputs": [],
   "source": [
    "import statsmodels.api as sm\n",
    "\n",
    "for col in train.columns:\n",
    "    print(col,'\\n')\n",
    "    _ = sm.tsa.seasonal_decompose(train[col].resample('W').mean()).plot()\n",
    "    plt.show()"
   ]
  },
  {
   "cell_type": "markdown",
   "id": "dbaf7758",
   "metadata": {},
   "source": [
    "## c. Holt's Linear Trend Model"
   ]
  },
  {
   "cell_type": "code",
   "execution_count": null,
   "id": "be0d8b07",
   "metadata": {},
   "outputs": [],
   "source": [
    "def holt_linear_trend():\n",
    "    for col in train.columns:\n",
    "    model = Holt(train[col], exponential = False)\n",
    "    model = model.fit(smoothing_level = .1, \n",
    "                      smoothing_slope = .1, \n",
    "                      optimized = False)\n",
    "    yhat_items = model.predict(start = validate.index[0], \n",
    "                               end = validate.index[-1])\n",
    "    yhat_df[col] = round(yhat_items, 2)\n",
    "\n",
    "    for col in train.columns:\n",
    "    plot_and_eval(target_var = col)\n",
    "\n",
    "    for col in train.columns:\n",
    "    eval_df = append_eval_df(model_type = 'Holts', \n",
    "                             target_var = col)\n",
    "    eval_df"
   ]
  },
  {
   "cell_type": "markdown",
   "id": "02c6818c",
   "metadata": {},
   "source": [
    "## d. Based on previous year/month/etc., this is up to you."
   ]
  },
  {
   "cell_type": "code",
   "execution_count": null,
   "id": "a9cad786",
   "metadata": {},
   "outputs": [],
   "source": [
    "train = df[:'2015']\n",
    "validate = df['2016']\n",
    "test = df['2017']\n"
   ]
  },
  {
   "cell_type": "code",
   "execution_count": null,
   "id": "150b215f",
   "metadata": {},
   "outputs": [],
   "source": [
    "yhat_df = train['2015'] + train.diff(365).mean()\n"
   ]
  },
  {
   "cell_type": "code",
   "execution_count": null,
   "id": "a0f19f1c",
   "metadata": {},
   "outputs": [],
   "source": [
    "pd.concat([yhat_df.head(1), validate.head(1)])\n"
   ]
  },
  {
   "cell_type": "code",
   "execution_count": null,
   "id": "669fa6a4",
   "metadata": {},
   "outputs": [],
   "source": [
    "# set yhat_df to index of validate\n",
    "yhat_df.index = validate.index\n",
    "\n",
    "len(yhat_df)\n"
   ]
  },
  {
   "cell_type": "code",
   "execution_count": null,
   "id": "d4fece2f",
   "metadata": {},
   "outputs": [],
   "source": [
    "for col in train.columns:\n",
    "    plot_and_eval(target_var = col)\n",
    "    eval_df = append_eval_df(model_type = 'previous year', target_var = col)\n"
   ]
  },
  {
   "cell_type": "code",
   "execution_count": null,
   "id": "9cb4fcee",
   "metadata": {},
   "outputs": [],
   "source": [
    "eval_df\n"
   ]
  },
  {
   "cell_type": "markdown",
   "id": "05ffa9c6",
   "metadata": {},
   "source": [
    "# Bonus"
   ]
  },
  {
   "cell_type": "markdown",
   "id": "c045c631",
   "metadata": {},
   "source": [
    "### Using the store data:"
   ]
  },
  {
   "cell_type": "markdown",
   "id": "5b831346",
   "metadata": {},
   "source": [
    "## 1. Predict 2018 total monthly sales for a single store and/or item by creating a model."
   ]
  },
  {
   "cell_type": "code",
   "execution_count": null,
   "id": "d8fd4b27",
   "metadata": {},
   "outputs": [],
   "source": []
  },
  {
   "cell_type": "markdown",
   "id": "2b118800",
   "metadata": {},
   "source": [
    "## 2. Return a dataframe with the month, store_id, y-hat, and the confidence intervals (y-hat lower, y-hat upper). The upper and lower bounds of the predictions are auto generated when using the facebook prophet model, or you could calculate your own using, for example, bollinger bands."
   ]
  },
  {
   "cell_type": "code",
   "execution_count": null,
   "id": "8eabe285",
   "metadata": {},
   "outputs": [],
   "source": []
  },
  {
   "cell_type": "markdown",
   "id": "51052288",
   "metadata": {},
   "source": [
    "## 3. Plot the 2018 monthly sales predictions."
   ]
  },
  {
   "cell_type": "code",
   "execution_count": null,
   "id": "59d5cb1d",
   "metadata": {},
   "outputs": [],
   "source": []
  }
 ],
 "metadata": {
  "kernelspec": {
   "display_name": "Python 3 (ipykernel)",
   "language": "python",
   "name": "python3"
  },
  "language_info": {
   "codemirror_mode": {
    "name": "ipython",
    "version": 3
   },
   "file_extension": ".py",
   "mimetype": "text/x-python",
   "name": "python",
   "nbconvert_exporter": "python",
   "pygments_lexer": "ipython3",
   "version": "3.9.15"
  }
 },
 "nbformat": 4,
 "nbformat_minor": 5
}
