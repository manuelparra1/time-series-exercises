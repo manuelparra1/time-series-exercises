{
 "cells": [
  {
   "cell_type": "code",
   "execution_count": 1,
   "id": "e0d217a0",
   "metadata": {},
   "outputs": [],
   "source": [
    "import numpy as np\n",
    "import pandas as pd\n",
    "import matplotlib.pyplot as plt\n",
    "import seaborn as sns\n",
    "\n",
    "\n",
    "from datetime import datetime\n",
    "from sklearn.metrics import mean_squared_error\n",
    "from math import sqrt\n",
    "\n",
    "from pandas.plotting import register_matplotlib_converters\n",
    "\n",
    "import statsmodels.api as sm\n",
    "from statsmodels.tsa.api import Holt"
   ]
  },
  {
   "cell_type": "markdown",
   "id": "111c02d0",
   "metadata": {},
   "source": [
    "# Exercises"
   ]
  },
  {
   "cell_type": "markdown",
   "id": "97656702",
   "metadata": {},
   "source": [
    "### The end result of this exercise should be a Jupyter notebook named model.\n",
    "### Use either the SAAS dataset or the store data and:"
   ]
  },
  {
   "cell_type": "code",
   "execution_count": 2,
   "id": "a49f2620",
   "metadata": {},
   "outputs": [],
   "source": [
    "def clean_saas_df(df):\n",
    "    # set datetime data type and sort\n",
    "    df['Month_Invoiced']=pd.to_datetime(df['Month_Invoiced'])\n",
    "    \n",
    "    # set 'Date' column as index and sorted\n",
    "    df = df.set_index(\"Month_Invoiced\").sort_index()\n",
    "    \n",
    "    # feature engineering: added 'month' column using index\n",
    "    df['month'] = df.index.month_name()\n",
    "    \n",
    "    # feature engineering: added 'year' column using index\n",
    "    df['year'] = df.index.year\n",
    "    \n",
    "    # change datatypes\n",
    "    df[\"year\"]  = df[\"year\"].astype('string')\n",
    "    df[\"Customer_Id\"]  = df[\"Customer_Id\"].astype('string')\n",
    "    df[\"Invoice_Id\"]  = df[\"Invoice_Id\"].astype('string')\n",
    "    df[\"Subscription_Type\"]  = df[\"Subscription_Type\"].astype('string')\n",
    "    \n",
    "    # rename columns snake_case\n",
    "    \n",
    "    df.columns = (df.columns\n",
    "                .str.replace(' ', '_', regex=True)\n",
    "                .str.lower()\n",
    "             )\n",
    "\n",
    "    return df"
   ]
  },
  {
   "cell_type": "code",
   "execution_count": 3,
   "id": "75976484",
   "metadata": {},
   "outputs": [],
   "source": [
    "def evaluate(target_var):\n",
    "    rmse = round(sqrt(mean_squared_error(validate[target_var], yhat_df[target_var])), 0)\n",
    "    return rmse"
   ]
  },
  {
   "cell_type": "code",
   "execution_count": 4,
   "id": "a1f5785f",
   "metadata": {},
   "outputs": [],
   "source": [
    "def plot_and_eval(target_var):\n",
    "    plt.figure(figsize = (12,4))\n",
    "    plt.plot(train[target_var], label = 'Train', linewidth = 1)\n",
    "    plt.plot(validate[target_var], label = 'Validate', linewidth = 1)\n",
    "    plt.plot(yhat_df[target_var])\n",
    "    plt.title(target_var)\n",
    "    rmse = evaluate(target_var)\n",
    "    print(target_var, '-- RMSE: {:.0f}'.format(rmse))\n",
    "    plt.show()"
   ]
  },
  {
   "cell_type": "code",
   "execution_count": 5,
   "id": "4b2d56ad",
   "metadata": {},
   "outputs": [],
   "source": [
    "# Create the empty dataframe\n",
    "eval_df = pd.DataFrame(columns=['model_type', 'target_var', 'rmse'])\n",
    "\n",
    "# function to store rmse for comparison purposes\n",
    "def append_eval_df(model_type, target_var):\n",
    "    rmse = evaluate(target_var)\n",
    "    d = {'model_type': [model_type], 'target_var': [target_var], 'rmse': [rmse]}\n",
    "    d = pd.DataFrame(d)\n",
    "    return eval_df.append(d, ignore_index = True)"
   ]
  },
  {
   "cell_type": "code",
   "execution_count": 6,
   "id": "3637979d",
   "metadata": {},
   "outputs": [],
   "source": [
    "saas_df = pd.read_csv('saas.csv')"
   ]
  },
  {
   "cell_type": "code",
   "execution_count": 7,
   "id": "e8133881",
   "metadata": {},
   "outputs": [],
   "source": [
    "saas_df = clean_saas_df(saas_df)"
   ]
  },
  {
   "cell_type": "code",
   "execution_count": 8,
   "id": "22bcc422",
   "metadata": {},
   "outputs": [
    {
     "data": {
      "text/html": [
       "<div>\n",
       "<style scoped>\n",
       "    .dataframe tbody tr th:only-of-type {\n",
       "        vertical-align: middle;\n",
       "    }\n",
       "\n",
       "    .dataframe tbody tr th {\n",
       "        vertical-align: top;\n",
       "    }\n",
       "\n",
       "    .dataframe thead th {\n",
       "        text-align: right;\n",
       "    }\n",
       "</style>\n",
       "<table border=\"1\" class=\"dataframe\">\n",
       "  <thead>\n",
       "    <tr style=\"text-align: right;\">\n",
       "      <th></th>\n",
       "      <th>customer_id</th>\n",
       "      <th>invoice_id</th>\n",
       "      <th>subscription_type</th>\n",
       "      <th>amount</th>\n",
       "      <th>month</th>\n",
       "      <th>year</th>\n",
       "    </tr>\n",
       "    <tr>\n",
       "      <th>Month_Invoiced</th>\n",
       "      <th></th>\n",
       "      <th></th>\n",
       "      <th></th>\n",
       "      <th></th>\n",
       "      <th></th>\n",
       "      <th></th>\n",
       "    </tr>\n",
       "  </thead>\n",
       "  <tbody>\n",
       "    <tr>\n",
       "      <th>2014-01-31</th>\n",
       "      <td>1000000</td>\n",
       "      <td>5000000</td>\n",
       "      <td>0.0</td>\n",
       "      <td>0.0</td>\n",
       "      <td>January</td>\n",
       "      <td>2014</td>\n",
       "    </tr>\n",
       "    <tr>\n",
       "      <th>2014-01-31</th>\n",
       "      <td>1000001</td>\n",
       "      <td>5000001</td>\n",
       "      <td>2.0</td>\n",
       "      <td>10.0</td>\n",
       "      <td>January</td>\n",
       "      <td>2014</td>\n",
       "    </tr>\n",
       "    <tr>\n",
       "      <th>2014-01-31</th>\n",
       "      <td>1000002</td>\n",
       "      <td>5000002</td>\n",
       "      <td>0.0</td>\n",
       "      <td>0.0</td>\n",
       "      <td>January</td>\n",
       "      <td>2014</td>\n",
       "    </tr>\n",
       "    <tr>\n",
       "      <th>2014-01-31</th>\n",
       "      <td>1000003</td>\n",
       "      <td>5000003</td>\n",
       "      <td>0.0</td>\n",
       "      <td>0.0</td>\n",
       "      <td>January</td>\n",
       "      <td>2014</td>\n",
       "    </tr>\n",
       "    <tr>\n",
       "      <th>2014-01-31</th>\n",
       "      <td>1000004</td>\n",
       "      <td>5000004</td>\n",
       "      <td>1.0</td>\n",
       "      <td>5.0</td>\n",
       "      <td>January</td>\n",
       "      <td>2014</td>\n",
       "    </tr>\n",
       "  </tbody>\n",
       "</table>\n",
       "</div>"
      ],
      "text/plain": [
       "               customer_id invoice_id subscription_type  amount    month  year\n",
       "Month_Invoiced                                                                \n",
       "2014-01-31         1000000    5000000               0.0     0.0  January  2014\n",
       "2014-01-31         1000001    5000001               2.0    10.0  January  2014\n",
       "2014-01-31         1000002    5000002               0.0     0.0  January  2014\n",
       "2014-01-31         1000003    5000003               0.0     0.0  January  2014\n",
       "2014-01-31         1000004    5000004               1.0     5.0  January  2014"
      ]
     },
     "execution_count": 8,
     "metadata": {},
     "output_type": "execute_result"
    }
   ],
   "source": [
    "saas_df.head()"
   ]
  },
  {
   "cell_type": "markdown",
   "id": "8e924d22",
   "metadata": {},
   "source": [
    "# 1. Split data (train/validate/test) and resample by any period except daily. Aggregate using the sum."
   ]
  },
  {
   "cell_type": "code",
   "execution_count": 9,
   "id": "3beb5fcc",
   "metadata": {},
   "outputs": [],
   "source": [
    "# split settings\n",
    "train_size = int(len(saas_df) * .5)\n",
    "validate_size = int(len(saas_df) * .3)\n",
    "test_size = int(len(saas_df) - train_size - validate_size)\n",
    "validate_end_index = train_size + validate_size\n",
    "\n",
    "# split into train, validation, test\n",
    "train = saas_df[: train_size]\n",
    "validate = saas_df[train_size : validate_end_index]\n",
    "test = saas_df[validate_end_index : ]"
   ]
  },
  {
   "cell_type": "code",
   "execution_count": 10,
   "id": "d2fa457d",
   "metadata": {},
   "outputs": [],
   "source": [
    "train = train.resample('M').sum()"
   ]
  },
  {
   "cell_type": "code",
   "execution_count": 11,
   "id": "db3ba170",
   "metadata": {},
   "outputs": [
    {
     "data": {
      "text/html": [
       "<div>\n",
       "<style scoped>\n",
       "    .dataframe tbody tr th:only-of-type {\n",
       "        vertical-align: middle;\n",
       "    }\n",
       "\n",
       "    .dataframe tbody tr th {\n",
       "        vertical-align: top;\n",
       "    }\n",
       "\n",
       "    .dataframe thead th {\n",
       "        text-align: right;\n",
       "    }\n",
       "</style>\n",
       "<table border=\"1\" class=\"dataframe\">\n",
       "  <thead>\n",
       "    <tr style=\"text-align: right;\">\n",
       "      <th></th>\n",
       "      <th>amount</th>\n",
       "    </tr>\n",
       "    <tr>\n",
       "      <th>Month_Invoiced</th>\n",
       "      <th></th>\n",
       "    </tr>\n",
       "  </thead>\n",
       "  <tbody>\n",
       "    <tr>\n",
       "      <th>2014-01-31</th>\n",
       "      <td>35850.0</td>\n",
       "    </tr>\n",
       "    <tr>\n",
       "      <th>2014-02-28</th>\n",
       "      <td>37190.0</td>\n",
       "    </tr>\n",
       "    <tr>\n",
       "      <th>2014-03-31</th>\n",
       "      <td>38295.0</td>\n",
       "    </tr>\n",
       "    <tr>\n",
       "      <th>2014-04-30</th>\n",
       "      <td>39255.0</td>\n",
       "    </tr>\n",
       "    <tr>\n",
       "      <th>2014-05-31</th>\n",
       "      <td>40355.0</td>\n",
       "    </tr>\n",
       "  </tbody>\n",
       "</table>\n",
       "</div>"
      ],
      "text/plain": [
       "                 amount\n",
       "Month_Invoiced         \n",
       "2014-01-31      35850.0\n",
       "2014-02-28      37190.0\n",
       "2014-03-31      38295.0\n",
       "2014-04-30      39255.0\n",
       "2014-05-31      40355.0"
      ]
     },
     "execution_count": 11,
     "metadata": {},
     "output_type": "execute_result"
    }
   ],
   "source": [
    "train.head()"
   ]
  },
  {
   "cell_type": "markdown",
   "id": "6eda10f4",
   "metadata": {},
   "source": [
    "# 2. Forecast, plot and evaluate using each of the 4 parametric based methods we discussed:"
   ]
  },
  {
   "cell_type": "markdown",
   "id": "8b29acc8",
   "metadata": {},
   "source": [
    "## a. Simple Average"
   ]
  },
  {
   "cell_type": "code",
   "execution_count": 12,
   "id": "20977d88",
   "metadata": {},
   "outputs": [
    {
     "data": {
      "text/html": [
       "<div>\n",
       "<style scoped>\n",
       "    .dataframe tbody tr th:only-of-type {\n",
       "        vertical-align: middle;\n",
       "    }\n",
       "\n",
       "    .dataframe tbody tr th {\n",
       "        vertical-align: top;\n",
       "    }\n",
       "\n",
       "    .dataframe thead th {\n",
       "        text-align: right;\n",
       "    }\n",
       "</style>\n",
       "<table border=\"1\" class=\"dataframe\">\n",
       "  <thead>\n",
       "    <tr style=\"text-align: right;\">\n",
       "      <th></th>\n",
       "      <th>amount</th>\n",
       "    </tr>\n",
       "    <tr>\n",
       "      <th>Month_Invoiced</th>\n",
       "      <th></th>\n",
       "    </tr>\n",
       "  </thead>\n",
       "  <tbody>\n",
       "    <tr>\n",
       "      <th>2015-10-31</th>\n",
       "      <td>44547.27</td>\n",
       "    </tr>\n",
       "    <tr>\n",
       "      <th>2015-10-31</th>\n",
       "      <td>44547.27</td>\n",
       "    </tr>\n",
       "    <tr>\n",
       "      <th>2015-10-31</th>\n",
       "      <td>44547.27</td>\n",
       "    </tr>\n",
       "  </tbody>\n",
       "</table>\n",
       "</div>"
      ],
      "text/plain": [
       "                  amount\n",
       "Month_Invoiced          \n",
       "2015-10-31      44547.27\n",
       "2015-10-31      44547.27\n",
       "2015-10-31      44547.27"
      ]
     },
     "execution_count": 12,
     "metadata": {},
     "output_type": "execute_result"
    }
   ],
   "source": [
    "items = round(train['amount'].mean(), 2)\n",
    "\n",
    "yhat_df = pd.DataFrame({'amount': [items],\n",
    "                           }, index = validate.index)\n",
    "\n",
    "yhat_df.head(3)"
   ]
  },
  {
   "cell_type": "code",
   "execution_count": 13,
   "id": "36fe8d9f",
   "metadata": {},
   "outputs": [
    {
     "data": {
      "text/plain": [
       "Index(['amount'], dtype='object')"
      ]
     },
     "execution_count": 13,
     "metadata": {},
     "output_type": "execute_result"
    }
   ],
   "source": [
    "train.columns"
   ]
  },
  {
   "cell_type": "code",
   "execution_count": 14,
   "id": "2e9ae394",
   "metadata": {},
   "outputs": [
    {
     "data": {
      "text/plain": [
       "Month_Invoiced\n",
       "2015-10-31    44547.27\n",
       "2015-10-31    44547.27\n",
       "2015-10-31    44547.27\n",
       "2015-10-31    44547.27\n",
       "2015-10-31    44547.27\n",
       "                ...   \n",
       "2017-01-31    44547.27\n",
       "2017-01-31    44547.27\n",
       "2017-01-31    44547.27\n",
       "2017-01-31    44547.27\n",
       "2017-01-31    44547.27\n",
       "Name: amount, Length: 237137, dtype: float64"
      ]
     },
     "execution_count": 14,
     "metadata": {},
     "output_type": "execute_result"
    }
   ],
   "source": [
    "yhat_df['amount']"
   ]
  },
  {
   "cell_type": "code",
   "execution_count": 15,
   "id": "46142f10",
   "metadata": {},
   "outputs": [
    {
     "name": "stdout",
     "output_type": "stream",
     "text": [
      "amount -- RMSE: 44544\n"
     ]
    },
    {
     "data": {
      "image/png": "[encoded data removed]",
      "text/plain": [
       "<Figure size 1200x400 with 1 Axes>"
      ]
     },
     "metadata": {},
     "output_type": "display_data"
    }
   ],
   "source": [
    "for col in train.columns:\n",
    "    plot_and_eval(col)"
   ]
  },
  {
   "cell_type": "code",
   "execution_count": 16,
   "id": "12448ee1",
   "metadata": {},
   "outputs": [
    {
     "name": "stdout",
     "output_type": "stream",
     "text": [
      "amount\n"
     ]
    }
   ],
   "source": [
    "for col in train.columns:\n",
    "    print(col)"
   ]
  },
  {
   "cell_type": "code",
   "execution_count": 17,
   "id": "c5441626",
   "metadata": {},
   "outputs": [
    {
     "name": "stderr",
     "output_type": "stream",
     "text": [
      "/var/folders/_r/wftd7dk93nj_hbzpqfw4vnsr0000gn/T/ipykernel_3398/1631977078.py:9: FutureWarning: The frame.append method is deprecated and will be removed from pandas in a future version. Use pandas.concat instead.\n",
      "  return eval_df.append(d, ignore_index = True)\n"
     ]
    },
    {
     "data": {
      "text/html": [
       "<div>\n",
       "<style scoped>\n",
       "    .dataframe tbody tr th:only-of-type {\n",
       "        vertical-align: middle;\n",
       "    }\n",
       "\n",
       "    .dataframe tbody tr th {\n",
       "        vertical-align: top;\n",
       "    }\n",
       "\n",
       "    .dataframe thead th {\n",
       "        text-align: right;\n",
       "    }\n",
       "</style>\n",
       "<table border=\"1\" class=\"dataframe\">\n",
       "  <thead>\n",
       "    <tr style=\"text-align: right;\">\n",
       "      <th></th>\n",
       "      <th>model_type</th>\n",
       "      <th>target_var</th>\n",
       "      <th>rmse</th>\n",
       "    </tr>\n",
       "  </thead>\n",
       "  <tbody>\n",
       "    <tr>\n",
       "      <th>0</th>\n",
       "      <td>simple_average</td>\n",
       "      <td>amount</td>\n",
       "      <td>44544.0</td>\n",
       "    </tr>\n",
       "  </tbody>\n",
       "</table>\n",
       "</div>"
      ],
      "text/plain": [
       "       model_type target_var     rmse\n",
       "0  simple_average     amount  44544.0"
      ]
     },
     "execution_count": 17,
     "metadata": {},
     "output_type": "execute_result"
    }
   ],
   "source": [
    "for col in train.columns:\n",
    "    eval_df = append_eval_df(model_type='simple_average', \n",
    "                             target_var = col)\n",
    "eval_df"
   ]
  },
  {
   "cell_type": "markdown",
   "id": "cc50483c",
   "metadata": {},
   "source": [
    "## b. Moving Average"
   ]
  },
  {
   "cell_type": "code",
   "execution_count": 18,
   "id": "7e848332",
   "metadata": {},
   "outputs": [
    {
     "data": {
      "text/html": [
       "<div>\n",
       "<style scoped>\n",
       "    .dataframe tbody tr th:only-of-type {\n",
       "        vertical-align: middle;\n",
       "    }\n",
       "\n",
       "    .dataframe tbody tr th {\n",
       "        vertical-align: top;\n",
       "    }\n",
       "\n",
       "    .dataframe thead th {\n",
       "        text-align: right;\n",
       "    }\n",
       "</style>\n",
       "<table border=\"1\" class=\"dataframe\">\n",
       "  <thead>\n",
       "    <tr style=\"text-align: right;\">\n",
       "      <th></th>\n",
       "      <th>amount</th>\n",
       "    </tr>\n",
       "    <tr>\n",
       "      <th>Month_Invoiced</th>\n",
       "      <th></th>\n",
       "    </tr>\n",
       "  </thead>\n",
       "  <tbody>\n",
       "    <tr>\n",
       "      <th>2015-10-31</th>\n",
       "      <td>47361.67</td>\n",
       "    </tr>\n",
       "    <tr>\n",
       "      <th>2015-10-31</th>\n",
       "      <td>47361.67</td>\n",
       "    </tr>\n",
       "  </tbody>\n",
       "</table>\n",
       "</div>"
      ],
      "text/plain": [
       "                  amount\n",
       "Month_Invoiced          \n",
       "2015-10-31      47361.67\n",
       "2015-10-31      47361.67"
      ]
     },
     "execution_count": 18,
     "metadata": {},
     "output_type": "execute_result"
    }
   ],
   "source": [
    "# compute a 30 day rolling average, \n",
    "# use the most recent/last 30 day period value to predict forward. \n",
    "\n",
    "period = 3\n",
    "items = round(train['amount'].rolling(period).mean().iloc[-1], 2)\n",
    "\n",
    "# yhat_df = make_predictions()\n",
    "\n",
    "yhat_df = pd.DataFrame({'amount': [items],\n",
    "                           }, index = validate.index)\n",
    "yhat_df.head(2)"
   ]
  },
  {
   "cell_type": "code",
   "execution_count": 19,
   "id": "a42d08ec",
   "metadata": {},
   "outputs": [
    {
     "name": "stdout",
     "output_type": "stream",
     "text": [
      "amount -- RMSE: 47358\n"
     ]
    },
    {
     "data": {
      "image/png": "[encoded data removed]",
      "text/plain": [
       "<Figure size 1200x400 with 1 Axes>"
      ]
     },
     "metadata": {},
     "output_type": "display_data"
    }
   ],
   "source": [
    "for col in train.columns:\n",
    "    plot_and_eval(col)"
   ]
  },
  {
   "cell_type": "code",
   "execution_count": 20,
   "id": "e42899bb",
   "metadata": {},
   "outputs": [
    {
     "name": "stderr",
     "output_type": "stream",
     "text": [
      "/var/folders/_r/wftd7dk93nj_hbzpqfw4vnsr0000gn/T/ipykernel_3398/1631977078.py:9: FutureWarning: The frame.append method is deprecated and will be removed from pandas in a future version. Use pandas.concat instead.\n",
      "  return eval_df.append(d, ignore_index = True)\n"
     ]
    },
    {
     "data": {
      "text/html": [
       "<div>\n",
       "<style scoped>\n",
       "    .dataframe tbody tr th:only-of-type {\n",
       "        vertical-align: middle;\n",
       "    }\n",
       "\n",
       "    .dataframe tbody tr th {\n",
       "        vertical-align: top;\n",
       "    }\n",
       "\n",
       "    .dataframe thead th {\n",
       "        text-align: right;\n",
       "    }\n",
       "</style>\n",
       "<table border=\"1\" class=\"dataframe\">\n",
       "  <thead>\n",
       "    <tr style=\"text-align: right;\">\n",
       "      <th></th>\n",
       "      <th>model_type</th>\n",
       "      <th>target_var</th>\n",
       "      <th>rmse</th>\n",
       "    </tr>\n",
       "  </thead>\n",
       "  <tbody>\n",
       "    <tr>\n",
       "      <th>0</th>\n",
       "      <td>simple_average</td>\n",
       "      <td>amount</td>\n",
       "      <td>44544.0</td>\n",
       "    </tr>\n",
       "    <tr>\n",
       "      <th>1</th>\n",
       "      <td>3M moving average</td>\n",
       "      <td>amount</td>\n",
       "      <td>47358.0</td>\n",
       "    </tr>\n",
       "  </tbody>\n",
       "</table>\n",
       "</div>"
      ],
      "text/plain": [
       "          model_type target_var     rmse\n",
       "0     simple_average     amount  44544.0\n",
       "1  3M moving average     amount  47358.0"
      ]
     },
     "execution_count": 20,
     "metadata": {},
     "output_type": "execute_result"
    }
   ],
   "source": [
    "for col in train.columns:\n",
    "    eval_df = append_eval_df(model_type='3M moving average', \n",
    "                             target_var = col)\n",
    "eval_df"
   ]
  },
  {
   "cell_type": "code",
   "execution_count": 21,
   "id": "a0dd7ca2",
   "metadata": {},
   "outputs": [
    {
     "name": "stderr",
     "output_type": "stream",
     "text": [
      "/var/folders/_r/wftd7dk93nj_hbzpqfw4vnsr0000gn/T/ipykernel_3398/1631977078.py:9: FutureWarning: The frame.append method is deprecated and will be removed from pandas in a future version. Use pandas.concat instead.\n",
      "  return eval_df.append(d, ignore_index = True)\n",
      "/var/folders/_r/wftd7dk93nj_hbzpqfw4vnsr0000gn/T/ipykernel_3398/1631977078.py:9: FutureWarning: The frame.append method is deprecated and will be removed from pandas in a future version. Use pandas.concat instead.\n",
      "  return eval_df.append(d, ignore_index = True)\n",
      "/var/folders/_r/wftd7dk93nj_hbzpqfw4vnsr0000gn/T/ipykernel_3398/1631977078.py:9: FutureWarning: The frame.append method is deprecated and will be removed from pandas in a future version. Use pandas.concat instead.\n",
      "  return eval_df.append(d, ignore_index = True)\n",
      "/var/folders/_r/wftd7dk93nj_hbzpqfw4vnsr0000gn/T/ipykernel_3398/1631977078.py:9: FutureWarning: The frame.append method is deprecated and will be removed from pandas in a future version. Use pandas.concat instead.\n",
      "  return eval_df.append(d, ignore_index = True)\n",
      "/var/folders/_r/wftd7dk93nj_hbzpqfw4vnsr0000gn/T/ipykernel_3398/1631977078.py:9: FutureWarning: The frame.append method is deprecated and will be removed from pandas in a future version. Use pandas.concat instead.\n",
      "  return eval_df.append(d, ignore_index = True)\n",
      "/var/folders/_r/wftd7dk93nj_hbzpqfw4vnsr0000gn/T/ipykernel_3398/1631977078.py:9: FutureWarning: The frame.append method is deprecated and will be removed from pandas in a future version. Use pandas.concat instead.\n",
      "  return eval_df.append(d, ignore_index = True)\n"
     ]
    }
   ],
   "source": [
    "periods = [1, 2, 6, 9, 12, 18]\n",
    "\n",
    "for p in periods:\n",
    "    items = round(train['amount'].rolling(p).mean().iloc[-1], 2)\n",
    "\n",
    "    yhat_df = pd.DataFrame({'amount': [items],\n",
    "                           }, index = validate.index)\n",
    "\n",
    "    model_type = str(p) + 'M moving average'\n",
    "    eval_df = append_eval_df(model_type = model_type,\n",
    "                             target_var = 'amount'\n",
    "                            )"
   ]
  },
  {
   "cell_type": "code",
   "execution_count": 22,
   "id": "89037ef7",
   "metadata": {},
   "outputs": [
    {
     "data": {
      "text/html": [
       "<div>\n",
       "<style scoped>\n",
       "    .dataframe tbody tr th:only-of-type {\n",
       "        vertical-align: middle;\n",
       "    }\n",
       "\n",
       "    .dataframe tbody tr th {\n",
       "        vertical-align: top;\n",
       "    }\n",
       "\n",
       "    .dataframe thead th {\n",
       "        text-align: right;\n",
       "    }\n",
       "</style>\n",
       "<table border=\"1\" class=\"dataframe\">\n",
       "  <thead>\n",
       "    <tr style=\"text-align: right;\">\n",
       "      <th></th>\n",
       "      <th>model_type</th>\n",
       "      <th>target_var</th>\n",
       "      <th>rmse</th>\n",
       "    </tr>\n",
       "  </thead>\n",
       "  <tbody>\n",
       "    <tr>\n",
       "      <th>0</th>\n",
       "      <td>simple_average</td>\n",
       "      <td>amount</td>\n",
       "      <td>44544.0</td>\n",
       "    </tr>\n",
       "    <tr>\n",
       "      <th>1</th>\n",
       "      <td>3M moving average</td>\n",
       "      <td>amount</td>\n",
       "      <td>47358.0</td>\n",
       "    </tr>\n",
       "    <tr>\n",
       "      <th>2</th>\n",
       "      <td>1M moving average</td>\n",
       "      <td>amount</td>\n",
       "      <td>40602.0</td>\n",
       "    </tr>\n",
       "    <tr>\n",
       "      <th>3</th>\n",
       "      <td>2M moving average</td>\n",
       "      <td>amount</td>\n",
       "      <td>45792.0</td>\n",
       "    </tr>\n",
       "    <tr>\n",
       "      <th>4</th>\n",
       "      <td>6M moving average</td>\n",
       "      <td>amount</td>\n",
       "      <td>48447.0</td>\n",
       "    </tr>\n",
       "    <tr>\n",
       "      <th>5</th>\n",
       "      <td>9M moving average</td>\n",
       "      <td>amount</td>\n",
       "      <td>48308.0</td>\n",
       "    </tr>\n",
       "    <tr>\n",
       "      <th>6</th>\n",
       "      <td>12M moving average</td>\n",
       "      <td>amount</td>\n",
       "      <td>47789.0</td>\n",
       "    </tr>\n",
       "    <tr>\n",
       "      <th>7</th>\n",
       "      <td>18M moving average</td>\n",
       "      <td>amount</td>\n",
       "      <td>46077.0</td>\n",
       "    </tr>\n",
       "  </tbody>\n",
       "</table>\n",
       "</div>"
      ],
      "text/plain": [
       "           model_type target_var     rmse\n",
       "0      simple_average     amount  44544.0\n",
       "1   3M moving average     amount  47358.0\n",
       "2   1M moving average     amount  40602.0\n",
       "3   2M moving average     amount  45792.0\n",
       "4   6M moving average     amount  48447.0\n",
       "5   9M moving average     amount  48308.0\n",
       "6  12M moving average     amount  47789.0\n",
       "7  18M moving average     amount  46077.0"
      ]
     },
     "execution_count": 22,
     "metadata": {},
     "output_type": "execute_result"
    }
   ],
   "source": [
    "eval_df"
   ]
  },
  {
   "cell_type": "code",
   "execution_count": 23,
   "id": "300654a5",
   "metadata": {},
   "outputs": [
    {
     "data": {
      "text/html": [
       "<div>\n",
       "<style scoped>\n",
       "    .dataframe tbody tr th:only-of-type {\n",
       "        vertical-align: middle;\n",
       "    }\n",
       "\n",
       "    .dataframe tbody tr th {\n",
       "        vertical-align: top;\n",
       "    }\n",
       "\n",
       "    .dataframe thead th {\n",
       "        text-align: right;\n",
       "    }\n",
       "</style>\n",
       "<table border=\"1\" class=\"dataframe\">\n",
       "  <thead>\n",
       "    <tr style=\"text-align: right;\">\n",
       "      <th></th>\n",
       "      <th>model_type</th>\n",
       "      <th>target_var</th>\n",
       "      <th>rmse</th>\n",
       "    </tr>\n",
       "  </thead>\n",
       "  <tbody>\n",
       "    <tr>\n",
       "      <th>2</th>\n",
       "      <td>1M moving average</td>\n",
       "      <td>amount</td>\n",
       "      <td>40602.0</td>\n",
       "    </tr>\n",
       "  </tbody>\n",
       "</table>\n",
       "</div>"
      ],
      "text/plain": [
       "          model_type target_var     rmse\n",
       "2  1M moving average     amount  40602.0"
      ]
     },
     "execution_count": 23,
     "metadata": {},
     "output_type": "execute_result"
    }
   ],
   "source": [
    "# get the min rmse for each variable\n",
    "\n",
    "min_rmse_amount = eval_df.groupby('target_var')['rmse'].min()[0]\n",
    "\n",
    "# filter only the rows that match those rmse to find out \n",
    "# which models are best thus far\n",
    "eval_df[((eval_df.rmse == min_rmse_amount)\n",
    "        )]"
   ]
  },
  {
   "cell_type": "code",
   "execution_count": 24,
   "id": "5fdf6aa3",
   "metadata": {},
   "outputs": [
    {
     "name": "stdout",
     "output_type": "stream",
     "text": [
      "amount \n",
      "\n"
     ]
    },
    {
     "ename": "ValueError",
     "evalue": "You must specify a period or x must be a pandas object with a PeriodIndex or a DatetimeIndex with a freq not set to None",
     "output_type": "error",
     "traceback": [
      "\u001b[0;31m---------------------------------------------------------------------------\u001b[0m",
      "\u001b[0;31mValueError\u001b[0m                                Traceback (most recent call last)",
      "Cell \u001b[0;32mIn[24], line 5\u001b[0m\n\u001b[1;32m      3\u001b[0m \u001b[38;5;28;01mfor\u001b[39;00m col \u001b[38;5;129;01min\u001b[39;00m train\u001b[38;5;241m.\u001b[39mcolumns:\n\u001b[1;32m      4\u001b[0m     \u001b[38;5;28mprint\u001b[39m(col,\u001b[38;5;124m'\u001b[39m\u001b[38;5;130;01m\\n\u001b[39;00m\u001b[38;5;124m'\u001b[39m)\n\u001b[0;32m----> 5\u001b[0m     _ \u001b[38;5;241m=\u001b[39m \u001b[43msm\u001b[49m\u001b[38;5;241;43m.\u001b[39;49m\u001b[43mtsa\u001b[49m\u001b[38;5;241;43m.\u001b[39;49m\u001b[43mseasonal_decompose\u001b[49m\u001b[43m(\u001b[49m\u001b[43mtrain\u001b[49m\u001b[43m[\u001b[49m\u001b[43mcol\u001b[49m\u001b[43m]\u001b[49m\u001b[38;5;241;43m.\u001b[39;49m\u001b[43mresample\u001b[49m\u001b[43m(\u001b[49m\u001b[38;5;124;43m'\u001b[39;49m\u001b[38;5;124;43mY\u001b[39;49m\u001b[38;5;124;43m'\u001b[39;49m\u001b[43m)\u001b[49m\u001b[38;5;241;43m.\u001b[39;49m\u001b[43mmean\u001b[49m\u001b[43m(\u001b[49m\u001b[43m)\u001b[49m\u001b[43m)\u001b[49m\u001b[38;5;241m.\u001b[39mplot()\n\u001b[1;32m      6\u001b[0m     plt\u001b[38;5;241m.\u001b[39mshow()\n",
      "File \u001b[0;32m/opt/homebrew/anaconda3/lib/python3.9/site-packages/statsmodels/tsa/seasonal.py:159\u001b[0m, in \u001b[0;36mseasonal_decompose\u001b[0;34m(x, model, filt, period, two_sided, extrapolate_trend)\u001b[0m\n\u001b[1;32m    157\u001b[0m         period \u001b[38;5;241m=\u001b[39m pfreq\n\u001b[1;32m    158\u001b[0m     \u001b[38;5;28;01melse\u001b[39;00m:\n\u001b[0;32m--> 159\u001b[0m         \u001b[38;5;28;01mraise\u001b[39;00m \u001b[38;5;167;01mValueError\u001b[39;00m(\n\u001b[1;32m    160\u001b[0m             \u001b[38;5;124m\"\u001b[39m\u001b[38;5;124mYou must specify a period or x must be a pandas object with \u001b[39m\u001b[38;5;124m\"\u001b[39m\n\u001b[1;32m    161\u001b[0m             \u001b[38;5;124m\"\u001b[39m\u001b[38;5;124ma PeriodIndex or a DatetimeIndex with a freq not set to None\u001b[39m\u001b[38;5;124m\"\u001b[39m\n\u001b[1;32m    162\u001b[0m         )\n\u001b[1;32m    163\u001b[0m \u001b[38;5;28;01mif\u001b[39;00m x\u001b[38;5;241m.\u001b[39mshape[\u001b[38;5;241m0\u001b[39m] \u001b[38;5;241m<\u001b[39m \u001b[38;5;241m2\u001b[39m \u001b[38;5;241m*\u001b[39m pfreq:\n\u001b[1;32m    164\u001b[0m     \u001b[38;5;28;01mraise\u001b[39;00m \u001b[38;5;167;01mValueError\u001b[39;00m(\n\u001b[1;32m    165\u001b[0m         \u001b[38;5;124mf\u001b[39m\u001b[38;5;124m\"\u001b[39m\u001b[38;5;124mx must have 2 complete cycles requires \u001b[39m\u001b[38;5;132;01m{\u001b[39;00m\u001b[38;5;241m2\u001b[39m \u001b[38;5;241m*\u001b[39m pfreq\u001b[38;5;132;01m}\u001b[39;00m\u001b[38;5;124m \u001b[39m\u001b[38;5;124m\"\u001b[39m\n\u001b[1;32m    166\u001b[0m         \u001b[38;5;124mf\u001b[39m\u001b[38;5;124m\"\u001b[39m\u001b[38;5;124mobservations. x only has \u001b[39m\u001b[38;5;132;01m{\u001b[39;00mx\u001b[38;5;241m.\u001b[39mshape[\u001b[38;5;241m0\u001b[39m]\u001b[38;5;132;01m}\u001b[39;00m\u001b[38;5;124m observation(s)\u001b[39m\u001b[38;5;124m\"\u001b[39m\n\u001b[1;32m    167\u001b[0m     )\n",
      "\u001b[0;31mValueError\u001b[0m: You must specify a period or x must be a pandas object with a PeriodIndex or a DatetimeIndex with a freq not set to None"
     ]
    }
   ],
   "source": [
    "import statsmodels.api as sm\n",
    "\n",
    "for col in train.columns:\n",
    "    print(col,'\\n')\n",
    "    _ = sm.tsa.seasonal_decompose(train[col].resample('Y').mean()).plot()\n",
    "    plt.show()"
   ]
  },
  {
   "cell_type": "markdown",
   "id": "dbaf7758",
   "metadata": {},
   "source": [
    "## c. Holt's Linear Trend Model"
   ]
  },
  {
   "cell_type": "code",
   "execution_count": 25,
   "id": "7fb027cf",
   "metadata": {},
   "outputs": [],
   "source": [
    "for col in train.columns:\n",
    "    model = Holt(train[col], exponential = False)\n",
    "    model = model.fit(smoothing_level = .1, \n",
    "                      smoothing_trend = .1, \n",
    "                      optimized = False)\n",
    "    yhat_items = model.predict(start = validate.index[0], \n",
    "                               end = validate.index[-1])\n",
    "    yhat_df[col] = round(yhat_items, 2)"
   ]
  },
  {
   "cell_type": "code",
   "execution_count": 26,
   "id": "050554c2",
   "metadata": {},
   "outputs": [
    {
     "name": "stdout",
     "output_type": "stream",
     "text": [
      "amount -- RMSE: 58905\n"
     ]
    },
    {
     "data": {
      "image/png": "[encoded data removed]",
      "text/plain": [
       "<Figure size 1200x400 with 1 Axes>"
      ]
     },
     "metadata": {},
     "output_type": "display_data"
    }
   ],
   "source": [
    "for col in train.columns:\n",
    "    plot_and_eval(target_var = col)"
   ]
  },
  {
   "cell_type": "code",
   "execution_count": 27,
   "id": "a2775f11",
   "metadata": {},
   "outputs": [
    {
     "name": "stderr",
     "output_type": "stream",
     "text": [
      "/var/folders/_r/wftd7dk93nj_hbzpqfw4vnsr0000gn/T/ipykernel_3398/1631977078.py:9: FutureWarning: The frame.append method is deprecated and will be removed from pandas in a future version. Use pandas.concat instead.\n",
      "  return eval_df.append(d, ignore_index = True)\n"
     ]
    }
   ],
   "source": [
    "for col in train.columns:\n",
    "    eval_df = append_eval_df(model_type = 'Holts', \n",
    "                             target_var = col)"
   ]
  },
  {
   "cell_type": "code",
   "execution_count": 28,
   "id": "7febdfeb",
   "metadata": {},
   "outputs": [
    {
     "data": {
      "text/html": [
       "<div>\n",
       "<style scoped>\n",
       "    .dataframe tbody tr th:only-of-type {\n",
       "        vertical-align: middle;\n",
       "    }\n",
       "\n",
       "    .dataframe tbody tr th {\n",
       "        vertical-align: top;\n",
       "    }\n",
       "\n",
       "    .dataframe thead th {\n",
       "        text-align: right;\n",
       "    }\n",
       "</style>\n",
       "<table border=\"1\" class=\"dataframe\">\n",
       "  <thead>\n",
       "    <tr style=\"text-align: right;\">\n",
       "      <th></th>\n",
       "      <th>model_type</th>\n",
       "      <th>target_var</th>\n",
       "      <th>rmse</th>\n",
       "    </tr>\n",
       "  </thead>\n",
       "  <tbody>\n",
       "    <tr>\n",
       "      <th>0</th>\n",
       "      <td>simple_average</td>\n",
       "      <td>amount</td>\n",
       "      <td>44544.0</td>\n",
       "    </tr>\n",
       "    <tr>\n",
       "      <th>1</th>\n",
       "      <td>3M moving average</td>\n",
       "      <td>amount</td>\n",
       "      <td>47358.0</td>\n",
       "    </tr>\n",
       "    <tr>\n",
       "      <th>2</th>\n",
       "      <td>1M moving average</td>\n",
       "      <td>amount</td>\n",
       "      <td>40602.0</td>\n",
       "    </tr>\n",
       "    <tr>\n",
       "      <th>3</th>\n",
       "      <td>2M moving average</td>\n",
       "      <td>amount</td>\n",
       "      <td>45792.0</td>\n",
       "    </tr>\n",
       "    <tr>\n",
       "      <th>4</th>\n",
       "      <td>6M moving average</td>\n",
       "      <td>amount</td>\n",
       "      <td>48447.0</td>\n",
       "    </tr>\n",
       "    <tr>\n",
       "      <th>5</th>\n",
       "      <td>9M moving average</td>\n",
       "      <td>amount</td>\n",
       "      <td>48308.0</td>\n",
       "    </tr>\n",
       "    <tr>\n",
       "      <th>6</th>\n",
       "      <td>12M moving average</td>\n",
       "      <td>amount</td>\n",
       "      <td>47789.0</td>\n",
       "    </tr>\n",
       "    <tr>\n",
       "      <th>7</th>\n",
       "      <td>18M moving average</td>\n",
       "      <td>amount</td>\n",
       "      <td>46077.0</td>\n",
       "    </tr>\n",
       "    <tr>\n",
       "      <th>8</th>\n",
       "      <td>Holts</td>\n",
       "      <td>amount</td>\n",
       "      <td>58905.0</td>\n",
       "    </tr>\n",
       "  </tbody>\n",
       "</table>\n",
       "</div>"
      ],
      "text/plain": [
       "           model_type target_var     rmse\n",
       "0      simple_average     amount  44544.0\n",
       "1   3M moving average     amount  47358.0\n",
       "2   1M moving average     amount  40602.0\n",
       "3   2M moving average     amount  45792.0\n",
       "4   6M moving average     amount  48447.0\n",
       "5   9M moving average     amount  48308.0\n",
       "6  12M moving average     amount  47789.0\n",
       "7  18M moving average     amount  46077.0\n",
       "8               Holts     amount  58905.0"
      ]
     },
     "execution_count": 28,
     "metadata": {},
     "output_type": "execute_result"
    }
   ],
   "source": [
    "eval_df"
   ]
  },
  {
   "cell_type": "markdown",
   "id": "02c6818c",
   "metadata": {},
   "source": [
    "## d. Based on previous year/month/etc., this is up to you."
   ]
  },
  {
   "cell_type": "markdown",
   "id": "cd6e3246",
   "metadata": {},
   "source": [
    "### - Resample By Month\n",
    "### - Predict based on previous year"
   ]
  },
  {
   "cell_type": "markdown",
   "id": "be2d0767",
   "metadata": {},
   "source": [
    "```python\n",
    "saas_df = pd.read_csv('saas.csv')\n",
    "saas_df = clean_saas_df(saas_df)\n",
    "```"
   ]
  },
  {
   "cell_type": "code",
   "execution_count": 30,
   "id": "c121565c",
   "metadata": {},
   "outputs": [],
   "source": [
    "# changing 'amount' column to float16\n",
    "saas_df['amount']=saas_df['amount'].astype('float16')"
   ]
  },
  {
   "cell_type": "code",
   "execution_count": 31,
   "id": "a9cad786",
   "metadata": {},
   "outputs": [
    {
     "name": "stderr",
     "output_type": "stream",
     "text": [
      "/var/folders/_r/wftd7dk93nj_hbzpqfw4vnsr0000gn/T/ipykernel_3398/3849541387.py:2: FutureWarning: Indexing a DataFrame with a datetimelike index using a single string to slice the rows, like `frame[string]`, is deprecated and will be removed in a future version. Use `frame.loc[string]` instead.\n",
      "  validate = saas_df['2016']\n",
      "/var/folders/_r/wftd7dk93nj_hbzpqfw4vnsr0000gn/T/ipykernel_3398/3849541387.py:3: FutureWarning: Indexing a DataFrame with a datetimelike index using a single string to slice the rows, like `frame[string]`, is deprecated and will be removed in a future version. Use `frame.loc[string]` instead.\n",
      "  test = saas_df['2017']\n"
     ]
    }
   ],
   "source": [
    "train = saas_df[:'2015']\n",
    "validate = saas_df['2016']\n",
    "test = saas_df['2017']"
   ]
  },
  {
   "cell_type": "code",
   "execution_count": 32,
   "id": "77537a0f",
   "metadata": {},
   "outputs": [
    {
     "data": {
      "text/plain": [
       "customer_id          0\n",
       "invoice_id           0\n",
       "subscription_type    0\n",
       "amount               0\n",
       "month                0\n",
       "year                 0\n",
       "dtype: int64"
      ]
     },
     "execution_count": 32,
     "metadata": {},
     "output_type": "execute_result"
    }
   ],
   "source": [
    "train.isnull().sum()"
   ]
  },
  {
   "cell_type": "code",
   "execution_count": 33,
   "id": "db4dea52",
   "metadata": {
    "scrolled": true
   },
   "outputs": [
    {
     "data": {
      "text/plain": [
       "customer_id           string\n",
       "invoice_id            string\n",
       "subscription_type     string\n",
       "amount               float16\n",
       "month                 object\n",
       "year                  string\n",
       "dtype: object"
      ]
     },
     "execution_count": 33,
     "metadata": {},
     "output_type": "execute_result"
    }
   ],
   "source": [
    "train.dtypes"
   ]
  },
  {
   "cell_type": "code",
   "execution_count": 36,
   "id": "3fbabb40",
   "metadata": {},
   "outputs": [
    {
     "name": "stderr",
     "output_type": "stream",
     "text": [
      "/var/folders/_r/wftd7dk93nj_hbzpqfw4vnsr0000gn/T/ipykernel_3398/2577148869.py:1: FutureWarning: Indexing a DataFrame with a datetimelike index using a single string to slice the rows, like `frame[string]`, is deprecated and will be removed in a future version. Use `frame.loc[string]` instead.\n",
      "  yhat_df = train['2015']['amount'] + train['amount'].diff(365).mean()\n"
     ]
    }
   ],
   "source": [
    "yhat_df = train['2015']['amount'] + train['amount'].diff(365).mean()"
   ]
  },
  {
   "cell_type": "code",
   "execution_count": 37,
   "id": "73ebd9ff",
   "metadata": {},
   "outputs": [
    {
     "data": {
      "text/plain": [
       "Month_Invoiced\n",
       "2015-01-31    -0.000093\n",
       "2015-01-31    10.000000\n",
       "2015-01-31    -0.000093\n",
       "2015-01-31     5.000000\n",
       "2015-01-31    10.000000\n",
       "                ...    \n",
       "2015-12-31    -0.000093\n",
       "2015-12-31    -0.000093\n",
       "2015-12-31    -0.000093\n",
       "2015-12-31    -0.000093\n",
       "2015-12-31    -0.000093\n",
       "Name: amount, Length: 204352, dtype: float16"
      ]
     },
     "execution_count": 37,
     "metadata": {},
     "output_type": "execute_result"
    }
   ],
   "source": [
    "yhat_df"
   ]
  },
  {
   "cell_type": "markdown",
   "id": "1f34f12b",
   "metadata": {},
   "source": [
    "# Last Observed Value"
   ]
  },
  {
   "cell_type": "code",
   "execution_count": 40,
   "id": "ce4578db",
   "metadata": {},
   "outputs": [
    {
     "name": "stdout",
     "output_type": "stream",
     "text": [
      "Month_Invoiced\n",
      "2015-01-31 00:00:00                                            -0.000093\n",
      "2015-01-31 00:00:00                                                 10.0\n",
      "2015-01-31 00:00:00                                            -0.000093\n",
      "2015-01-31 00:00:00                                                  5.0\n",
      "2015-01-31 00:00:00                                                 10.0\n",
      "                                             ...                        \n",
      "2015-12-31 00:00:00                                            -0.000093\n",
      "2015-12-31 00:00:00                                            -0.000093\n",
      "2015-12-31 00:00:00                                            -0.000093\n",
      "2015-12-31 00:00:00                                            -0.000093\n",
      "pred_sales             Month_Invoiced\n",
      "2015-01-31    NaN\n",
      "2015-01-31   ...\n",
      "Name: amount, Length: 204353, dtype: object\n"
     ]
    },
    {
     "name": "stderr",
     "output_type": "stream",
     "text": [
      "/var/folders/_r/wftd7dk93nj_hbzpqfw4vnsr0000gn/T/ipykernel_3398/1905686494.py:2: FutureWarning: Indexing a DataFrame with a datetimelike index using a single string to slice the rows, like `frame[string]`, is deprecated and will be removed in a future version. Use `frame.loc[string]` instead.\n",
      "  yhat_df['pred_sales'] = train['2015']['amount'].shift(12)\n"
     ]
    }
   ],
   "source": [
    "# Predict sales using previous cycle method\n",
    "yhat_df['pred_sales'] = train['2015']['amount'].shift(12)\n",
    "\n",
    "print(yhat_df)"
   ]
  },
  {
   "cell_type": "code",
   "execution_count": 41,
   "id": "796c8d71",
   "metadata": {},
   "outputs": [
    {
     "data": {
      "text/plain": [
       "Month_Invoiced\n",
       "2015-01-31 00:00:00                                            -0.000093\n",
       "2015-01-31 00:00:00                                                 10.0\n",
       "2015-01-31 00:00:00                                            -0.000093\n",
       "2015-01-31 00:00:00                                                  5.0\n",
       "2015-01-31 00:00:00                                                 10.0\n",
       "                                             ...                        \n",
       "2015-12-31 00:00:00                                            -0.000093\n",
       "2015-12-31 00:00:00                                            -0.000093\n",
       "2015-12-31 00:00:00                                            -0.000093\n",
       "2015-12-31 00:00:00                                            -0.000093\n",
       "pred_sales             Month_Invoiced\n",
       "2015-01-31    NaN\n",
       "2015-01-31   ...\n",
       "Name: amount, Length: 204353, dtype: object"
      ]
     },
     "execution_count": 41,
     "metadata": {},
     "output_type": "execute_result"
    }
   ],
   "source": [
    "yhat_df"
   ]
  },
  {
   "cell_type": "code",
   "execution_count": null,
   "id": "a0f19f1c",
   "metadata": {},
   "outputs": [],
   "source": [
    "pd.concat([yhat_df.head(1), validate.head(1)])"
   ]
  },
  {
   "cell_type": "code",
   "execution_count": null,
   "id": "669fa6a4",
   "metadata": {},
   "outputs": [],
   "source": [
    "# set yhat_df to index of validate\n",
    "yhat_df.index = validate.index\n",
    "\n",
    "len(yhat_df)"
   ]
  },
  {
   "cell_type": "code",
   "execution_count": null,
   "id": "d4fece2f",
   "metadata": {},
   "outputs": [],
   "source": [
    "for col in train.columns:\n",
    "    plot_and_eval(target_var = col)\n",
    "    eval_df = append_eval_df(model_type = 'previous year', target_var = col)"
   ]
  },
  {
   "cell_type": "code",
   "execution_count": null,
   "id": "64259a4d",
   "metadata": {
    "scrolled": true
   },
   "outputs": [],
   "source": [
    "saas_df.head()"
   ]
  },
  {
   "cell_type": "markdown",
   "id": "19b5864c",
   "metadata": {},
   "source": [
    "```python\n",
    "# Predict sales using previous cycle method\n",
    "saas_df['pred_sales'] = saas_df['sales'].shift(12)\n",
    "\n",
    "print(df_monthly)\n",
    "```"
   ]
  },
  {
   "cell_type": "markdown",
   "id": "05ffa9c6",
   "metadata": {},
   "source": [
    "# Bonus"
   ]
  },
  {
   "cell_type": "markdown",
   "id": "c045c631",
   "metadata": {},
   "source": [
    "### Using the store data:"
   ]
  },
  {
   "cell_type": "markdown",
   "id": "5b831346",
   "metadata": {},
   "source": [
    "## 1. Predict 2018 total monthly sales for a single store and/or item by creating a model."
   ]
  },
  {
   "cell_type": "code",
   "execution_count": null,
   "id": "d8fd4b27",
   "metadata": {},
   "outputs": [],
   "source": []
  },
  {
   "cell_type": "markdown",
   "id": "2b118800",
   "metadata": {},
   "source": [
    "## 2. Return a dataframe with the month, store_id, y-hat, and the confidence intervals (y-hat lower, y-hat upper). The upper and lower bounds of the predictions are auto generated when using the facebook prophet model, or you could calculate your own using, for example, bollinger bands."
   ]
  },
  {
   "cell_type": "code",
   "execution_count": null,
   "id": "8eabe285",
   "metadata": {},
   "outputs": [],
   "source": []
  },
  {
   "cell_type": "markdown",
   "id": "51052288",
   "metadata": {},
   "source": [
    "## 3. Plot the 2018 monthly sales predictions."
   ]
  },
  {
   "cell_type": "code",
   "execution_count": null,
   "id": "59d5cb1d",
   "metadata": {},
   "outputs": [],
   "source": []
  }
 ],
 "metadata": {
  "kernelspec": {
   "display_name": "Python 3 (ipykernel)",
   "language": "python",
   "name": "python3"
  },
  "language_info": {
   "codemirror_mode": {
    "name": "ipython",
    "version": 3
   },
   "file_extension": ".py",
   "mimetype": "text/x-python",
   "name": "python",
   "nbconvert_exporter": "python",
   "pygments_lexer": "ipython3",
   "version": "3.9.15"
  }
 },
 "nbformat": 4,
 "nbformat_minor": 5
}
