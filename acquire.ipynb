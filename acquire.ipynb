{
 "cells": [
  {
   "cell_type": "code",
   "execution_count": 1,
   "id": "1a4bc9b2",
   "metadata": {},
   "outputs": [],
   "source": [
    "import requests\n",
    "import math\n",
    "import pandas as pd\n",
    "import os"
   ]
  },
  {
   "cell_type": "markdown",
   "id": "1ca00e85",
   "metadata": {},
   "source": [
    "# While Loop"
   ]
  },
  {
   "cell_type": "markdown",
   "id": "f9665253",
   "metadata": {},
   "source": [
    "### wrong code\n",
    "```python\n",
    "while not (next_page == None):\n",
    "    response = requests.get(swapi_people_df['next'])\n",
    "    data = response.json()\n",
    "\n",
    "    next_page = data['next']\n",
    "\n",
    "    df = pd.concat([df, pd.DataFrame(data['results'])]).reset_index()\n",
    "```"
   ]
  },
  {
   "cell_type": "markdown",
   "id": "1ca13459",
   "metadata": {},
   "source": [
    "### alternate version\n",
    "```python\n",
    "url = 'https://swapi.dev/api/people/'\n",
    "people = []\n",
    "while url:\n",
    "    response = requests.get(url)\n",
    "    data = response.json()\n",
    "    people.extend(data['results'])\n",
    "    url = data['next']\n",
    "\n",
    "df = pd.DataFrame(people)\n",
    "```"
   ]
  },
  {
   "cell_type": "markdown",
   "id": "0c0c2618",
   "metadata": {},
   "source": [
    "# Exercises"
   ]
  },
  {
   "cell_type": "markdown",
   "id": "cc60dfed",
   "metadata": {},
   "source": [
    "Create a new local git repository and remote repository on github named time-series-exercises. Save this work for this module in your time-series-exercises repo.\n",
    "\n",
    "The end result of this exercise should be a file named acquire.py."
   ]
  },
  {
   "cell_type": "markdown",
   "id": "e08c7e9c",
   "metadata": {},
   "source": [
    "### 1. Using the code from the lesson as a guide and the REST API from https://swapi.dev/ as we did in the lesson, create a dataframe named people that has all of the data for people."
   ]
  },
  {
   "cell_type": "code",
   "execution_count": 2,
   "id": "254eb02c",
   "metadata": {},
   "outputs": [],
   "source": [
    "# Star Wars API Root Directory Setup\n",
    "# root url (table of contents)\n",
    "root_url = 'https://swapi.dev/api/'\n",
    "\n",
    "# saving response to save as .json\n",
    "root_response = requests.get(root_url)\n",
    "\n",
    "# converting to .json\n",
    "root_response_data = root_response.json()"
   ]
  },
  {
   "cell_type": "code",
   "execution_count": 3,
   "id": "90e4848c",
   "metadata": {},
   "outputs": [
    {
     "data": {
      "text/plain": [
       "(82, 16)"
      ]
     },
     "execution_count": 3,
     "metadata": {},
     "output_type": "execute_result"
    }
   ],
   "source": [
    "# accessing starwars api for people\n",
    "people_df = pd.DataFrame()\n",
    "people_next_page = root_response_data[\"people\"]\n",
    "\n",
    "while people_next_page is not None:\n",
    "    people_response = requests.get(people_next_page)\n",
    "    people_data = people_response.json()\n",
    "    people_df = pd.concat([people_df, pd.DataFrame(people_data['results'])], ignore_index=True)\n",
    "    people_next_page = people_data['next']\n",
    "\n",
    "people_df.shape"
   ]
  },
  {
   "cell_type": "markdown",
   "id": "fe594c50",
   "metadata": {},
   "source": [
    "### 2. Do the same thing, but for planets."
   ]
  },
  {
   "cell_type": "code",
   "execution_count": 19,
   "id": "f827acd9",
   "metadata": {},
   "outputs": [
    {
     "data": {
      "text/plain": [
       "(60, 14)"
      ]
     },
     "execution_count": 19,
     "metadata": {},
     "output_type": "execute_result"
    }
   ],
   "source": [
    "planets_df = pd.DataFrame()\n",
    "planets_next_page = root_response_data[\"planets\"]\n",
    "\n",
    "while planets_next_page is not None:\n",
    "    planets_response = requests.get(planets_next_page)\n",
    "    planets_data = planets_response.json()\n",
    "    planets_df = pd.concat([planets_df, pd.DataFrame(planets_data['results'])], ignore_index=True)\n",
    "    planets_next_page = planets_data['next']\n",
    "\n",
    "planets_df.shape"
   ]
  },
  {
   "cell_type": "markdown",
   "id": "e93750ae",
   "metadata": {},
   "source": [
    "### 3. Extract the data for starships."
   ]
  },
  {
   "cell_type": "code",
   "execution_count": 5,
   "id": "785e3583",
   "metadata": {},
   "outputs": [
    {
     "data": {
      "text/plain": [
       "(36, 18)"
      ]
     },
     "execution_count": 5,
     "metadata": {},
     "output_type": "execute_result"
    }
   ],
   "source": [
    "starships_df = pd.DataFrame()\n",
    "starships_next_page = root_response_data[\"starships\"]\n",
    "\n",
    "while starships_next_page is not None:\n",
    "    starships_response = requests.get(starships_next_page)\n",
    "    starships_data = starships_response.json()\n",
    "    starships_df = pd.concat([starships_df, pd.DataFrame(starships_data['results'])], ignore_index=True)\n",
    "    starships_next_page = starships_data['next']\n",
    "\n",
    "starships_df.shape"
   ]
  },
  {
   "cell_type": "markdown",
   "id": "25e4a3de",
   "metadata": {},
   "source": [
    "### 4. Save the data in your files to local csv files so that it will be faster to access in the future."
   ]
  },
  {
   "cell_type": "markdown",
   "id": "4f475689",
   "metadata": {},
   "source": [
    "`df.to_csv(,drop=True)`"
   ]
  },
  {
   "cell_type": "code",
   "execution_count": 6,
   "id": "af830c13",
   "metadata": {},
   "outputs": [
    {
     "name": "stdout",
     "output_type": "stream",
     "text": [
      "File people.csv already exists.\n"
     ]
    }
   ],
   "source": [
    "filename = 'people.csv'\n",
    "\n",
    "if not os.path.exists(filename):\n",
    "    people_df.to_csv(filename, index=False)\n",
    "    print(f\"Saving {filename}...\")\n",
    "else:\n",
    "    print(f\"File {filename} already exists.\")"
   ]
  },
  {
   "cell_type": "code",
   "execution_count": 7,
   "id": "fe1da615",
   "metadata": {},
   "outputs": [
    {
     "name": "stdout",
     "output_type": "stream",
     "text": [
      "File planets.csv already exists.\n"
     ]
    }
   ],
   "source": [
    "filename = 'planets.csv'\n",
    "\n",
    "if not os.path.exists(filename):\n",
    "    planets_df.to_csv(filename, index=False)\n",
    "    print(f\"Saving {filename}...\")\n",
    "else:\n",
    "    print(f\"File {filename} already exists.\")"
   ]
  },
  {
   "cell_type": "code",
   "execution_count": 8,
   "id": "3d3da9c2",
   "metadata": {},
   "outputs": [
    {
     "name": "stdout",
     "output_type": "stream",
     "text": [
      "File starships.csv already exists.\n"
     ]
    }
   ],
   "source": [
    "filename = 'starships.csv'\n",
    "\n",
    "if not os.path.exists(filename):\n",
    "    starships_df.to_csv(filename, index=False)\n",
    "    print(f\"Saving {filename}...\")\n",
    "else:\n",
    "    print(f\"File {filename} already exists.\")"
   ]
  },
  {
   "cell_type": "markdown",
   "id": "6d2cfef4",
   "metadata": {},
   "source": [
    "### 5. Combine the data from your three separate dataframes into one large dataframe."
   ]
  },
  {
   "cell_type": "code",
   "execution_count": 9,
   "id": "4e10bb7d",
   "metadata": {},
   "outputs": [],
   "source": [
    "people_df[\"Type\"] = \"People\"\n",
    "planets_df[\"Type\"] = \"Planet\"\n",
    "starships_df[\"Type\"] = \"Starship\""
   ]
  },
  {
   "cell_type": "code",
   "execution_count": 10,
   "id": "1cac2bfa",
   "metadata": {},
   "outputs": [],
   "source": [
    "giant_df = pd.concat([people_df, planets_df, starships_df])"
   ]
  },
  {
   "cell_type": "code",
   "execution_count": 11,
   "id": "658ecb3c",
   "metadata": {},
   "outputs": [
    {
     "data": {
      "text/plain": [
       "People      82\n",
       "Starship    36\n",
       "Name: Type, dtype: int64"
      ]
     },
     "execution_count": 11,
     "metadata": {},
     "output_type": "execute_result"
    }
   ],
   "source": [
    "giant_df[\"Type\"].value_counts()"
   ]
  },
  {
   "cell_type": "code",
   "execution_count": 12,
   "id": "01eaff47",
   "metadata": {},
   "outputs": [
    {
     "data": {
      "text/plain": [
       "Index(['name', 'height', 'mass', 'hair_color', 'skin_color', 'eye_color',\n",
       "       'birth_year', 'gender', 'homeworld', 'films', 'species', 'vehicles',\n",
       "       'starships', 'created', 'edited', 'url', 'Type'],\n",
       "      dtype='object')"
      ]
     },
     "execution_count": 12,
     "metadata": {},
     "output_type": "execute_result"
    }
   ],
   "source": [
    "people_df.columns"
   ]
  },
  {
   "cell_type": "code",
   "execution_count": 13,
   "id": "01bcd578",
   "metadata": {},
   "outputs": [
    {
     "data": {
      "text/plain": [
       "Index(['name', 'model', 'manufacturer', 'cost_in_credits', 'length',\n",
       "       'max_atmosphering_speed', 'crew', 'passengers', 'cargo_capacity',\n",
       "       'consumables', 'hyperdrive_rating', 'MGLT', 'starship_class', 'pilots',\n",
       "       'films', 'created', 'edited', 'url', 'Type'],\n",
       "      dtype='object')"
      ]
     },
     "execution_count": 13,
     "metadata": {},
     "output_type": "execute_result"
    }
   ],
   "source": [
    "starships_df.columns"
   ]
  },
  {
   "cell_type": "code",
   "execution_count": 21,
   "id": "00850a5f",
   "metadata": {},
   "outputs": [
    {
     "data": {
      "text/plain": [
       "Index(['name', 'rotation_period', 'orbital_period', 'diameter', 'climate',\n",
       "       'gravity', 'terrain', 'surface_water', 'population', 'residents',\n",
       "       'films', 'created', 'edited', 'url'],\n",
       "      dtype='object')"
      ]
     },
     "execution_count": 21,
     "metadata": {},
     "output_type": "execute_result"
    }
   ],
   "source": [
    "planets_df.columns"
   ]
  },
  {
   "cell_type": "code",
   "execution_count": 15,
   "id": "ba347004",
   "metadata": {},
   "outputs": [
    {
     "data": {
      "text/html": [
       "<div>\n",
       "<style scoped>\n",
       "    .dataframe tbody tr th:only-of-type {\n",
       "        vertical-align: middle;\n",
       "    }\n",
       "\n",
       "    .dataframe tbody tr th {\n",
       "        vertical-align: top;\n",
       "    }\n",
       "\n",
       "    .dataframe thead th {\n",
       "        text-align: right;\n",
       "    }\n",
       "</style>\n",
       "<table border=\"1\" class=\"dataframe\">\n",
       "  <thead>\n",
       "    <tr style=\"text-align: right;\">\n",
       "      <th></th>\n",
       "      <th>name</th>\n",
       "      <th>height</th>\n",
       "      <th>mass</th>\n",
       "      <th>hair_color</th>\n",
       "      <th>skin_color</th>\n",
       "      <th>eye_color</th>\n",
       "      <th>birth_year</th>\n",
       "      <th>gender</th>\n",
       "      <th>homeworld</th>\n",
       "      <th>films</th>\n",
       "      <th>...</th>\n",
       "      <th>length</th>\n",
       "      <th>max_atmosphering_speed</th>\n",
       "      <th>crew</th>\n",
       "      <th>passengers</th>\n",
       "      <th>cargo_capacity</th>\n",
       "      <th>consumables</th>\n",
       "      <th>hyperdrive_rating</th>\n",
       "      <th>MGLT</th>\n",
       "      <th>starship_class</th>\n",
       "      <th>pilots</th>\n",
       "    </tr>\n",
       "  </thead>\n",
       "  <tbody>\n",
       "    <tr>\n",
       "      <th>0</th>\n",
       "      <td>Luke Skywalker</td>\n",
       "      <td>172</td>\n",
       "      <td>77</td>\n",
       "      <td>blond</td>\n",
       "      <td>fair</td>\n",
       "      <td>blue</td>\n",
       "      <td>19BBY</td>\n",
       "      <td>male</td>\n",
       "      <td>https://swapi.dev/api/planets/1/</td>\n",
       "      <td>[https://swapi.dev/api/films/1/, https://swapi...</td>\n",
       "      <td>...</td>\n",
       "      <td>NaN</td>\n",
       "      <td>NaN</td>\n",
       "      <td>NaN</td>\n",
       "      <td>NaN</td>\n",
       "      <td>NaN</td>\n",
       "      <td>NaN</td>\n",
       "      <td>NaN</td>\n",
       "      <td>NaN</td>\n",
       "      <td>NaN</td>\n",
       "      <td>NaN</td>\n",
       "    </tr>\n",
       "  </tbody>\n",
       "</table>\n",
       "<p>1 rows × 30 columns</p>\n",
       "</div>"
      ],
      "text/plain": [
       "             name height mass hair_color skin_color eye_color birth_year  \\\n",
       "0  Luke Skywalker    172   77      blond       fair      blue      19BBY   \n",
       "\n",
       "  gender                         homeworld  \\\n",
       "0   male  https://swapi.dev/api/planets/1/   \n",
       "\n",
       "                                               films  ... length  \\\n",
       "0  [https://swapi.dev/api/films/1/, https://swapi...  ...    NaN   \n",
       "\n",
       "  max_atmosphering_speed crew passengers cargo_capacity consumables  \\\n",
       "0                    NaN  NaN        NaN            NaN         NaN   \n",
       "\n",
       "  hyperdrive_rating MGLT starship_class pilots  \n",
       "0               NaN  NaN            NaN    NaN  \n",
       "\n",
       "[1 rows x 30 columns]"
      ]
     },
     "execution_count": 15,
     "metadata": {},
     "output_type": "execute_result"
    }
   ],
   "source": [
    "giant_df.head(1)"
   ]
  },
  {
   "cell_type": "code",
   "execution_count": 23,
   "id": "61032f78",
   "metadata": {},
   "outputs": [],
   "source": [
    "# Merge the 'people_df' and 'planets_df' on the 'films' column\n",
    "# people_planets_df = pd.merge(people_df, planets_df, on='films', how='outer')"
   ]
  },
  {
   "cell_type": "code",
   "execution_count": 24,
   "id": "82a4daf3",
   "metadata": {},
   "outputs": [],
   "source": [
    "# Merge the above result with 'starshipsdf' on the 'films' column\n",
    "# people_planets_ships_df = pd.merge(people_planets_df, starships_df, on='films', how='outer')"
   ]
  },
  {
   "cell_type": "markdown",
   "id": "88601d14",
   "metadata": {},
   "source": [
    "### 6. Acquire the Open Power Systems Data for Germany, which has been rapidly expanding its renewable energy production in recent years. The data set includes country-wide totals of electricity consumption, wind power production, and solar power production for 2006-2017. You can get the data here: https://raw.githubusercontent.com/jenfly/opsd/master/opsd_germany_daily.csv"
   ]
  },
  {
   "cell_type": "markdown",
   "id": "9490220a",
   "metadata": {},
   "source": [
    "`df.read_csv(,drop=True)`"
   ]
  },
  {
   "cell_type": "code",
   "execution_count": null,
   "id": "6fecebb3",
   "metadata": {},
   "outputs": [],
   "source": [
    "url = \"https://raw.githubusercontent.com/jenfly/opsd/master/opsd_germany_daily.csv\"\n",
    "energy_df = pd.read_csv(url)"
   ]
  },
  {
   "cell_type": "code",
   "execution_count": null,
   "id": "3c2570d5",
   "metadata": {},
   "outputs": [],
   "source": [
    "filename = 'opsd_germany_daily.csv'\n",
    "\n",
    "if not os.path.exists(filename):\n",
    "    energy_df.to_csv(filename, index=False)\n",
    "    print(f\"Saving {filename}...\")\n",
    "else:\n",
    "    print(f\"File {filename} already exists.\")"
   ]
  },
  {
   "cell_type": "markdown",
   "id": "8ba512b1",
   "metadata": {},
   "source": [
    "### 7. Make sure all the work that you have done above is reproducible. That is, you should put the code above into separate functions in the acquire.py file and be able to re-run the functions and get the same data."
   ]
  },
  {
   "cell_type": "markdown",
   "id": "f9d77f08",
   "metadata": {},
   "source": [
    "```python\n",
    "get_people()\n",
    "get_planets()\n",
    "get_starships()\n",
    "get_all_starwars()\n",
    "get_energy()\n",
    "```"
   ]
  },
  {
   "cell_type": "code",
   "execution_count": null,
   "id": "37acf017",
   "metadata": {},
   "outputs": [],
   "source": [
    "def get_star_wars_api_url(info):\n",
    "    # Star Wars API Root Directory Setup\n",
    "    # root url (table of contents)\n",
    "    root_url = 'https://swapi.dev/api/'\n",
    "\n",
    "    # saving response to save as .json\n",
    "    root_response = requests.get(root_url)\n",
    "\n",
    "    # converting to .json\n",
    "    root_response_data = root_response.json()\n",
    "    \n",
    "    return root_response_data[info]"
   ]
  },
  {
   "cell_type": "code",
   "execution_count": null,
   "id": "86e97f5b",
   "metadata": {},
   "outputs": [],
   "source": [
    "def get_people(save=True):\n",
    "    people_df = pd.DataFrame()\n",
    "    people_next_page = get_star_wars_api_url(\"people\")\n",
    "\n",
    "    while people_next_page is not None:\n",
    "        people_response = requests.get(people_next_page)\n",
    "        people_data = people_response.json()\n",
    "        people_df = pd.concat([people_df, pd.DataFrame(people_data['results'])], ignore_index=True)\n",
    "        people_next_page = people_data['next']\n",
    "    \n",
    "    if save:\n",
    "        # save to csv if option selected\n",
    "        filename = 'people.csv'\n",
    "\n",
    "        if not os.path.exists(filename):\n",
    "            people_df.to_csv(filename, index=False)\n",
    "            print(f\"Saving {filename}...\")\n",
    "        else:\n",
    "            print(f\"File {filename} already exists.\")\n",
    "            \n",
    "    return people_df"
   ]
  },
  {
   "cell_type": "code",
   "execution_count": null,
   "id": "631f7b7d",
   "metadata": {},
   "outputs": [],
   "source": [
    "def get_planets(save=True):\n",
    "    # empty DataFrame\n",
    "    planets_df = pd.DataFrame()\n",
    "    \n",
    "    # variable to hold initial url for request.get()\n",
    "    # as well as get while loop started with temporary next_page\n",
    "    # later it will be re-assigned at end of while loop\n",
    "    planets_next_page = get_star_wars_api_url(\"planets\")\n",
    "\n",
    "    # loop through every page until `next_page == None`\n",
    "    while planets_next_page is not None:\n",
    "        planets_response = requests.get(planets_next_page)\n",
    "        planets_data = planets_response.json()\n",
    "        planets_df = pd.concat([planets_df, pd.DataFrame(planets_data['results'])], ignore_index=True)\n",
    "        planets_next_page = planets_data['next']\n",
    "        \n",
    "    # if argument is passed in function to save DataFrame\n",
    "    # to .CSV, it will check first before saving\n",
    "    if save:\n",
    "        # variable for modularity if re-using function\n",
    "        filename = 'planets.csv'\n",
    "\n",
    "        # if saving to .csv file, check if one exists already\n",
    "        if not os.path.exists(filename):\n",
    "            planets_df.to_csv(filename, index=False)\n",
    "            print(f\"Saving {filename}...\")\n",
    "        else:\n",
    "            print(f\"File {filename} already exists.\")\n",
    "    return planets_df"
   ]
  },
  {
   "cell_type": "code",
   "execution_count": null,
   "id": "821fea0c",
   "metadata": {},
   "outputs": [],
   "source": [
    "def get_starships(save=True):\n",
    "    starships_df = pd.DataFrame()\n",
    "    starships_next_page = get_star_wars_api_url(\"starships\")\n",
    "\n",
    "    while starships_next_page is not None:\n",
    "        starships_response = requests.get(starships_next_page)\n",
    "        starships_data = starships_response.json()\n",
    "        starships_df = pd.concat([starships_df, pd.DataFrame(starships_data['results'])], ignore_index=True)\n",
    "        starships_next_page = starships_data['next']\n",
    "    \n",
    "    if save:\n",
    "        # save to csv if option selected\n",
    "        filename = 'starships.csv'\n",
    "\n",
    "        if not os.path.exists(filename):\n",
    "            starships_df.to_csv(filename, index=False)\n",
    "            print(f\"Saving {filename}...\")\n",
    "        else:\n",
    "            print(f\"File {filename} already exists.\")\n",
    "\n",
    "    return starships_df"
   ]
  },
  {
   "cell_type": "code",
   "execution_count": null,
   "id": "3f361e7c",
   "metadata": {},
   "outputs": [],
   "source": [
    "def get_all_starwars(save=True):\n",
    "    # 3 temporary dataframes to hold each type of data\n",
    "    people_df = get_people(save)\n",
    "    planets_df = get_planets(save)\n",
    "    starships_df = get_starships(save)\n",
    "    \n",
    "    # columns for sorting ability\n",
    "    people_df[\"Type\"] = \"People\"\n",
    "    planets_df[\"Type\"] = \"Planet\"\n",
    "    starships_df[\"Type\"] = \"Starship\"\n",
    "    \n",
    "    #concatenate all 3 into one giant DataFrame\n",
    "    \n",
    "    return pd.concat([people_df, planets_df, starships_df])"
   ]
  },
  {
   "cell_type": "code",
   "execution_count": null,
   "id": "4cb43e0d",
   "metadata": {},
   "outputs": [],
   "source": [
    "def get_energy():\n",
    "    url = \"https://raw.githubusercontent.com/jenfly/opsd/master/opsd_germany_daily.csv\"\n",
    "    energy_df = pd.read_csv(url)\n",
    "    \n",
    "    filename = 'opsd_germany_daily.csv'\n",
    "\n",
    "    if not os.path.exists(filename):\n",
    "        energy_df.to_csv(filename, index=False)\n",
    "        print(f\"Saving {filename}...\")\n",
    "    else:\n",
    "        print(f\"File {filename} already exists.\")\n",
    "    return energy_df"
   ]
  }
 ],
 "metadata": {
  "kernelspec": {
   "display_name": "Python 3 (ipykernel)",
   "language": "python",
   "name": "python3"
  },
  "language_info": {
   "codemirror_mode": {
    "name": "ipython",
    "version": 3
   },
   "file_extension": ".py",
   "mimetype": "text/x-python",
   "name": "python",
   "nbconvert_exporter": "python",
   "pygments_lexer": "ipython3",
   "version": "3.9.15"
  }
 },
 "nbformat": 4,
 "nbformat_minor": 5
}
