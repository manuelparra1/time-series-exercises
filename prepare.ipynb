{
 "cells": [
  {
   "cell_type": "code",
   "execution_count": 1,
   "id": "1b06586a",
   "metadata": {},
   "outputs": [],
   "source": [
    "import pandas as pd\n",
    "from datetime import timedelta, datetime\n",
    "import numpy as np\n",
    "import matplotlib.pyplot as plt\n",
    "import seaborn as sns\n",
    "import os\n",
    "\n",
    "from env import *\n",
    "import acquire as acq\n",
    "#import warnings\n",
    "#warnings.filterwarnings(\"ignore\")"
   ]
  },
  {
   "cell_type": "code",
   "execution_count": 2,
   "id": "3dec33b3",
   "metadata": {},
   "outputs": [],
   "source": [
    "def get_store_data():\n",
    "    filename = 'tsa_item_demand.csv'\n",
    "\n",
    "    if not os.path.exists(filename):\n",
    "        sql_db = \"tsa_item_demand\"\n",
    "        url = get_db_url(sql_db)\n",
    "        query = '''\n",
    "                select * \n",
    "                from sales\n",
    "                left join items using(item_id)\n",
    "                left join stores using(store_id)\n",
    "                '''\n",
    "        df = pd.read_sql(query,url)\n",
    "        df.to_csv(filename, index=False)\n",
    "        print(f\"Saving {filename}...\")\n",
    "        \n",
    "        return df\n",
    "    else:\n",
    "        print(f\"File {filename} already exists. Loading {filename}...\")\n",
    "        \n",
    "        return pd.read_csv(filename,index_col=False)"
   ]
  },
  {
   "cell_type": "code",
   "execution_count": 3,
   "id": "a920d4df",
   "metadata": {},
   "outputs": [
    {
     "name": "stdout",
     "output_type": "stream",
     "text": [
      "File tsa_item_demand.csv already exists. Loading tsa_item_demand.csv...\n"
     ]
    }
   ],
   "source": [
    "store_df = get_store_data()"
   ]
  },
  {
   "cell_type": "markdown",
   "id": "99174a53",
   "metadata": {},
   "source": [
    "# Exercises"
   ]
  },
  {
   "cell_type": "markdown",
   "id": "17ccfd65",
   "metadata": {},
   "source": [
    "### Using your store items data:"
   ]
  },
  {
   "cell_type": "markdown",
   "id": "08b24ecf",
   "metadata": {},
   "source": [
    "# 1. Convert date column to datetime format."
   ]
  },
  {
   "cell_type": "code",
   "execution_count": 4,
   "id": "d32b8946",
   "metadata": {},
   "outputs": [],
   "source": [
    "# drop old columns from sql database\n",
    "store_df = store_df.drop(columns = [\"store_id\",\"item_id\",\"sale_id\"])"
   ]
  },
  {
   "cell_type": "code",
   "execution_count": 5,
   "id": "1b84df8d",
   "metadata": {},
   "outputs": [
    {
     "data": {
      "text/html": [
       "<div>\n",
       "<style scoped>\n",
       "    .dataframe tbody tr th:only-of-type {\n",
       "        vertical-align: middle;\n",
       "    }\n",
       "\n",
       "    .dataframe tbody tr th {\n",
       "        vertical-align: top;\n",
       "    }\n",
       "\n",
       "    .dataframe thead th {\n",
       "        text-align: right;\n",
       "    }\n",
       "</style>\n",
       "<table border=\"1\" class=\"dataframe\">\n",
       "  <thead>\n",
       "    <tr style=\"text-align: right;\">\n",
       "      <th></th>\n",
       "      <th>sale_date</th>\n",
       "      <th>sale_amount</th>\n",
       "      <th>item_upc14</th>\n",
       "      <th>item_upc12</th>\n",
       "      <th>item_brand</th>\n",
       "      <th>item_name</th>\n",
       "      <th>item_price</th>\n",
       "      <th>store_address</th>\n",
       "      <th>store_zipcode</th>\n",
       "      <th>store_city</th>\n",
       "      <th>store_state</th>\n",
       "    </tr>\n",
       "  </thead>\n",
       "  <tbody>\n",
       "    <tr>\n",
       "      <th>0</th>\n",
       "      <td>2013-01-01</td>\n",
       "      <td>13</td>\n",
       "      <td>35200264013</td>\n",
       "      <td>35200264013</td>\n",
       "      <td>Riceland</td>\n",
       "      <td>Riceland American Jazmine Rice</td>\n",
       "      <td>0.84</td>\n",
       "      <td>12125 Alamo Ranch Pkwy</td>\n",
       "      <td>78253</td>\n",
       "      <td>San Antonio</td>\n",
       "      <td>TX</td>\n",
       "    </tr>\n",
       "    <tr>\n",
       "      <th>1</th>\n",
       "      <td>2013-01-02</td>\n",
       "      <td>11</td>\n",
       "      <td>35200264013</td>\n",
       "      <td>35200264013</td>\n",
       "      <td>Riceland</td>\n",
       "      <td>Riceland American Jazmine Rice</td>\n",
       "      <td>0.84</td>\n",
       "      <td>12125 Alamo Ranch Pkwy</td>\n",
       "      <td>78253</td>\n",
       "      <td>San Antonio</td>\n",
       "      <td>TX</td>\n",
       "    </tr>\n",
       "    <tr>\n",
       "      <th>2</th>\n",
       "      <td>2013-01-03</td>\n",
       "      <td>14</td>\n",
       "      <td>35200264013</td>\n",
       "      <td>35200264013</td>\n",
       "      <td>Riceland</td>\n",
       "      <td>Riceland American Jazmine Rice</td>\n",
       "      <td>0.84</td>\n",
       "      <td>12125 Alamo Ranch Pkwy</td>\n",
       "      <td>78253</td>\n",
       "      <td>San Antonio</td>\n",
       "      <td>TX</td>\n",
       "    </tr>\n",
       "  </tbody>\n",
       "</table>\n",
       "</div>"
      ],
      "text/plain": [
       "    sale_date  sale_amount   item_upc14   item_upc12 item_brand  \\\n",
       "0  2013-01-01           13  35200264013  35200264013   Riceland   \n",
       "1  2013-01-02           11  35200264013  35200264013   Riceland   \n",
       "2  2013-01-03           14  35200264013  35200264013   Riceland   \n",
       "\n",
       "                        item_name  item_price           store_address  \\\n",
       "0  Riceland American Jazmine Rice        0.84  12125 Alamo Ranch Pkwy   \n",
       "1  Riceland American Jazmine Rice        0.84  12125 Alamo Ranch Pkwy   \n",
       "2  Riceland American Jazmine Rice        0.84  12125 Alamo Ranch Pkwy   \n",
       "\n",
       "   store_zipcode   store_city store_state  \n",
       "0          78253  San Antonio          TX  \n",
       "1          78253  San Antonio          TX  \n",
       "2          78253  San Antonio          TX  "
      ]
     },
     "execution_count": 5,
     "metadata": {},
     "output_type": "execute_result"
    }
   ],
   "source": [
    "store_df.head(3)"
   ]
  },
  {
   "cell_type": "code",
   "execution_count": 6,
   "id": "9366fa85",
   "metadata": {},
   "outputs": [],
   "source": [
    "store_df = store_df.sort_values(\"sale_date\").reset_index()"
   ]
  },
  {
   "cell_type": "code",
   "execution_count": 7,
   "id": "a44d0e27",
   "metadata": {},
   "outputs": [],
   "source": [
    "store_df = store_df.drop(columns = [\"index\"])"
   ]
  },
  {
   "cell_type": "code",
   "execution_count": 8,
   "id": "6893305c",
   "metadata": {},
   "outputs": [
    {
     "data": {
      "text/plain": [
       "sale_date         object\n",
       "sale_amount        int64\n",
       "item_upc14         int64\n",
       "item_upc12         int64\n",
       "item_brand        object\n",
       "item_name         object\n",
       "item_price       float64\n",
       "store_address     object\n",
       "store_zipcode      int64\n",
       "store_city        object\n",
       "store_state       object\n",
       "dtype: object"
      ]
     },
     "execution_count": 8,
     "metadata": {},
     "output_type": "execute_result"
    }
   ],
   "source": [
    "store_df.dtypes"
   ]
  },
  {
   "cell_type": "code",
   "execution_count": 9,
   "id": "41836ea9",
   "metadata": {},
   "outputs": [],
   "source": [
    "store_df['sale_date'] = pd.to_datetime(store_df['sale_date'])"
   ]
  },
  {
   "cell_type": "code",
   "execution_count": 10,
   "id": "67485795",
   "metadata": {},
   "outputs": [
    {
     "name": "stdout",
     "output_type": "stream",
     "text": [
      "<class 'pandas.core.frame.DataFrame'>\n",
      "RangeIndex: 913000 entries, 0 to 912999\n",
      "Data columns (total 11 columns):\n",
      " #   Column         Non-Null Count   Dtype         \n",
      "---  ------         --------------   -----         \n",
      " 0   sale_date      913000 non-null  datetime64[ns]\n",
      " 1   sale_amount    913000 non-null  int64         \n",
      " 2   item_upc14     913000 non-null  int64         \n",
      " 3   item_upc12     913000 non-null  int64         \n",
      " 4   item_brand     913000 non-null  object        \n",
      " 5   item_name      913000 non-null  object        \n",
      " 6   item_price     913000 non-null  float64       \n",
      " 7   store_address  913000 non-null  object        \n",
      " 8   store_zipcode  913000 non-null  int64         \n",
      " 9   store_city     913000 non-null  object        \n",
      " 10  store_state    913000 non-null  object        \n",
      "dtypes: datetime64[ns](1), float64(1), int64(4), object(5)\n",
      "memory usage: 76.6+ MB\n"
     ]
    }
   ],
   "source": [
    "store_df.info()"
   ]
  },
  {
   "cell_type": "code",
   "execution_count": 121,
   "id": "ae38f895",
   "metadata": {},
   "outputs": [
    {
     "data": {
      "text/plain": [
       "(913000, 13)"
      ]
     },
     "execution_count": 121,
     "metadata": {},
     "output_type": "execute_result"
    }
   ],
   "source": [
    "store_df.shape"
   ]
  },
  {
   "cell_type": "markdown",
   "id": "1d33059c",
   "metadata": {},
   "source": [
    "# 2. Plot the distribution of sale_amount and item_price."
   ]
  },
  {
   "cell_type": "code",
   "execution_count": 11,
   "id": "8a29d9d9",
   "metadata": {},
   "outputs": [
    {
     "data": {
      "image/png": "[encoded data removed]",
      "text/plain": [
       "<Figure size 500x500 with 1 Axes>"
      ]
     },
     "metadata": {},
     "output_type": "display_data"
    },
    {
     "data": {
      "image/png": "[encoded data removed]",
      "text/plain": [
       "<Figure size 500x500 with 1 Axes>"
      ]
     },
     "metadata": {},
     "output_type": "display_data"
    }
   ],
   "source": [
    "sns.displot(store_df[\"sale_amount\"])\n",
    "sns.displot(store_df[\"item_price\"])\n",
    "plt.show()"
   ]
  },
  {
   "cell_type": "code",
   "execution_count": 12,
   "id": "5fa44476",
   "metadata": {},
   "outputs": [
    {
     "data": {
      "text/plain": [
       "0.6"
      ]
     },
     "execution_count": 12,
     "metadata": {},
     "output_type": "execute_result"
    }
   ],
   "source": [
    "store_df[\"item_price\"].min()"
   ]
  },
  {
   "cell_type": "code",
   "execution_count": 13,
   "id": "55861f71",
   "metadata": {},
   "outputs": [
    {
     "data": {
      "text/plain": [
       "9.64"
      ]
     },
     "execution_count": 13,
     "metadata": {},
     "output_type": "execute_result"
    }
   ],
   "source": [
    "store_df[\"item_price\"].max()"
   ]
  },
  {
   "cell_type": "code",
   "execution_count": 14,
   "id": "ee45c0e6",
   "metadata": {},
   "outputs": [
    {
     "data": {
      "text/plain": [
       "array([0.84, 8.4 , 4.65, 6.47, 7.54, 4.4 , 3.17, 7.38, 3.93, 7.06, 1.16,\n",
       "       4.39, 0.74, 5.17, 9.11, 2.43, 5.2 , 9.54, 3.14, 2.61, 6.44, 1.68,\n",
       "       3.72, 1.79, 9.64, 6.93, 8.39, 9.02, 4.21, 0.68, 7.52, 0.6 , 8.65,\n",
       "       5.19, 3.45, 9.59, 7.95, 6.52, 4.17, 8.09, 7.31, 2.97, 1.78, 5.62,\n",
       "       0.98, 6.01, 5.34])"
      ]
     },
     "execution_count": 14,
     "metadata": {},
     "output_type": "execute_result"
    }
   ],
   "source": [
    "store_df[\"item_price\"].unique()"
   ]
  },
  {
   "cell_type": "code",
   "execution_count": 15,
   "id": "b1b58537",
   "metadata": {},
   "outputs": [
    {
     "data": {
      "text/plain": [
       "array([ 13,  26,  27,  54,  35,  41,  23,  37,  51,  20,  49,  46,  33,\n",
       "        38,  42,  56,  47,  43,  22,  30,  45,  29,  28,  36,  31,   9,\n",
       "        25,  10,  12,  17,  55,  34,  44,  40,  18,  21,   6,  32,  52,\n",
       "        19,  15,  24,  65,  61,   5,  48,  14,  57,  11,   4,   7,  16,\n",
       "        39,  50,   8,  64,  59,  60,   2,  62,  71,  53,  58,  63,   3,\n",
       "        67,  74,  66,  70,  68,  69,  83,  73,  76,  77,  75,  78,  97,\n",
       "        72,  81,  79,  80,  84,  91,  86,  88,  85,  82,  89,  92,  98,\n",
       "        87, 103,  99,  90,  93,  95, 101, 100,  94, 122,  96, 102, 119,\n",
       "       105, 104, 107, 111, 109, 116, 106, 113, 110, 120, 114, 115, 108,\n",
       "       118, 138, 112, 121, 128, 126, 117, 124, 127, 133, 132, 131, 123,\n",
       "       136, 135, 134, 129, 142, 125, 139, 141, 130, 156, 137, 149, 145,\n",
       "       146, 140, 157, 153, 151, 144, 147, 143, 148, 166, 160, 161, 163,\n",
       "       169,   1,   0, 154, 150, 152, 155, 158, 171, 159, 164, 167, 165,\n",
       "       168, 172, 162, 181, 174, 189, 170, 177, 173, 183, 175, 185, 180,\n",
       "       176, 196, 179, 178, 194, 182, 186, 187, 192, 193, 184, 197, 191,\n",
       "       207, 214, 190, 209, 204, 200, 199, 202, 195, 198, 188, 231, 208,\n",
       "       205, 206, 210, 203, 201])"
      ]
     },
     "execution_count": 15,
     "metadata": {},
     "output_type": "execute_result"
    }
   ],
   "source": [
    "store_df[\"sale_amount\"].unique()"
   ]
  },
  {
   "cell_type": "markdown",
   "id": "2238a80c",
   "metadata": {},
   "source": [
    "# 3. Set the index to be the datetime variable."
   ]
  },
  {
   "cell_type": "code",
   "execution_count": 16,
   "id": "e1f15e26",
   "metadata": {},
   "outputs": [],
   "source": [
    "store_df = store_df.set_index(\"sale_date\").sort_index()"
   ]
  },
  {
   "cell_type": "markdown",
   "id": "5d0b94b9",
   "metadata": {},
   "source": [
    "# 4. Add a 'month' and 'day of week' column to your dataframe."
   ]
  },
  {
   "cell_type": "code",
   "execution_count": 123,
   "id": "81b89011",
   "metadata": {},
   "outputs": [],
   "source": [
    "store_df['month'] = store_df.index.month_name()\n",
    "store_df['day_of_week'] = store_df.index.day_name()"
   ]
  },
  {
   "cell_type": "code",
   "execution_count": 125,
   "id": "9e8941c9",
   "metadata": {},
   "outputs": [
    {
     "data": {
      "text/html": [
       "<div>\n",
       "<style scoped>\n",
       "    .dataframe tbody tr th:only-of-type {\n",
       "        vertical-align: middle;\n",
       "    }\n",
       "\n",
       "    .dataframe tbody tr th {\n",
       "        vertical-align: top;\n",
       "    }\n",
       "\n",
       "    .dataframe thead th {\n",
       "        text-align: right;\n",
       "    }\n",
       "</style>\n",
       "<table border=\"1\" class=\"dataframe\">\n",
       "  <thead>\n",
       "    <tr style=\"text-align: right;\">\n",
       "      <th></th>\n",
       "      <th>sale_amount</th>\n",
       "      <th>item_upc14</th>\n",
       "      <th>item_upc12</th>\n",
       "      <th>item_brand</th>\n",
       "      <th>item_name</th>\n",
       "      <th>item_price</th>\n",
       "      <th>store_address</th>\n",
       "      <th>store_zipcode</th>\n",
       "      <th>store_city</th>\n",
       "      <th>store_state</th>\n",
       "      <th>month</th>\n",
       "      <th>day_of_week</th>\n",
       "      <th>sales_total</th>\n",
       "    </tr>\n",
       "    <tr>\n",
       "      <th>sale_date</th>\n",
       "      <th></th>\n",
       "      <th></th>\n",
       "      <th></th>\n",
       "      <th></th>\n",
       "      <th></th>\n",
       "      <th></th>\n",
       "      <th></th>\n",
       "      <th></th>\n",
       "      <th></th>\n",
       "      <th></th>\n",
       "      <th></th>\n",
       "      <th></th>\n",
       "      <th></th>\n",
       "    </tr>\n",
       "  </thead>\n",
       "  <tbody>\n",
       "    <tr>\n",
       "      <th>2013-01-01</th>\n",
       "      <td>13</td>\n",
       "      <td>35200264013</td>\n",
       "      <td>35200264013</td>\n",
       "      <td>Riceland</td>\n",
       "      <td>Riceland American Jazmine Rice</td>\n",
       "      <td>0.84</td>\n",
       "      <td>12125 Alamo Ranch Pkwy</td>\n",
       "      <td>78253</td>\n",
       "      <td>San Antonio</td>\n",
       "      <td>TX</td>\n",
       "      <td>January</td>\n",
       "      <td>Tuesday</td>\n",
       "      <td>10.92</td>\n",
       "    </tr>\n",
       "    <tr>\n",
       "      <th>2013-01-01</th>\n",
       "      <td>26</td>\n",
       "      <td>74676640211</td>\n",
       "      <td>74676640211</td>\n",
       "      <td>Mueller</td>\n",
       "      <td>Mueller Sport Care Basic Support Level Medium ...</td>\n",
       "      <td>8.40</td>\n",
       "      <td>12018 Perrin Beitel Rd</td>\n",
       "      <td>78217</td>\n",
       "      <td>San Antonio</td>\n",
       "      <td>TX</td>\n",
       "      <td>January</td>\n",
       "      <td>Tuesday</td>\n",
       "      <td>218.40</td>\n",
       "    </tr>\n",
       "    <tr>\n",
       "      <th>2013-01-01</th>\n",
       "      <td>27</td>\n",
       "      <td>35457770664</td>\n",
       "      <td>35457770664</td>\n",
       "      <td>Mama Marys</td>\n",
       "      <td>Pizza Sauce</td>\n",
       "      <td>4.65</td>\n",
       "      <td>12018 Perrin Beitel Rd</td>\n",
       "      <td>78217</td>\n",
       "      <td>San Antonio</td>\n",
       "      <td>TX</td>\n",
       "      <td>January</td>\n",
       "      <td>Tuesday</td>\n",
       "      <td>125.55</td>\n",
       "    </tr>\n",
       "  </tbody>\n",
       "</table>\n",
       "</div>"
      ],
      "text/plain": [
       "            sale_amount   item_upc14   item_upc12  item_brand  \\\n",
       "sale_date                                                       \n",
       "2013-01-01           13  35200264013  35200264013    Riceland   \n",
       "2013-01-01           26  74676640211  74676640211     Mueller   \n",
       "2013-01-01           27  35457770664  35457770664  Mama Marys   \n",
       "\n",
       "                                                    item_name  item_price  \\\n",
       "sale_date                                                                   \n",
       "2013-01-01                     Riceland American Jazmine Rice        0.84   \n",
       "2013-01-01  Mueller Sport Care Basic Support Level Medium ...        8.40   \n",
       "2013-01-01                                        Pizza Sauce        4.65   \n",
       "\n",
       "                     store_address  store_zipcode   store_city store_state  \\\n",
       "sale_date                                                                    \n",
       "2013-01-01  12125 Alamo Ranch Pkwy          78253  San Antonio          TX   \n",
       "2013-01-01  12018 Perrin Beitel Rd          78217  San Antonio          TX   \n",
       "2013-01-01  12018 Perrin Beitel Rd          78217  San Antonio          TX   \n",
       "\n",
       "              month day_of_week  sales_total  \n",
       "sale_date                                     \n",
       "2013-01-01  January     Tuesday        10.92  \n",
       "2013-01-01  January     Tuesday       218.40  \n",
       "2013-01-01  January     Tuesday       125.55  "
      ]
     },
     "execution_count": 125,
     "metadata": {},
     "output_type": "execute_result"
    }
   ],
   "source": [
    "store_df.head(3)"
   ]
  },
  {
   "cell_type": "markdown",
   "id": "f4faa255",
   "metadata": {},
   "source": [
    "# 5. Add a column to your dataframe, sales_total, which is a derived from sale_amount (total items) and item_price."
   ]
  },
  {
   "cell_type": "code",
   "execution_count": 18,
   "id": "f7fda69c",
   "metadata": {},
   "outputs": [
    {
     "data": {
      "text/plain": [
       "Index(['sale_amount', 'item_upc14', 'item_upc12', 'item_brand', 'item_name',\n",
       "       'item_price', 'store_address', 'store_zipcode', 'store_city',\n",
       "       'store_state', 'month', 'day_of_week'],\n",
       "      dtype='object')"
      ]
     },
     "execution_count": 18,
     "metadata": {},
     "output_type": "execute_result"
    }
   ],
   "source": [
    "store_df.columns"
   ]
  },
  {
   "cell_type": "code",
   "execution_count": 19,
   "id": "78083085",
   "metadata": {},
   "outputs": [],
   "source": [
    "store_df[\"sales_total\"] = store_df[\"sale_amount\"]*store_df[\"item_price\"]"
   ]
  },
  {
   "cell_type": "markdown",
   "id": "9199a141",
   "metadata": {},
   "source": [
    "# 6. Make sure all the work that you have done above is reproducible. That is, you should put the code above into separate functions and be able to re-run the functions and get the same results."
   ]
  },
  {
   "cell_type": "code",
   "execution_count": 20,
   "id": "c82c5546",
   "metadata": {},
   "outputs": [],
   "source": [
    "def clean_store_data(df):\n",
    "    # drop old columns from sql database\n",
    "    df = df.drop(columns = [\"store_id\",\"item_id\",\"sale_id\"])\n",
    "    \n",
    "    # convert 'sale_date' column to datetime type\n",
    "    df['sale_date'] = pd.to_datetime(df['sale_date'])\n",
    "    # infer_datetime = True\n",
    "    \n",
    "    # set 'sale_date' column as index and sort it\n",
    "    df = df.set_index(\"sale_date\").sort_index()\n",
    "    \n",
    "    # feature engineer: add month & day of week using date index\n",
    "    df['month'] = df.index.month\n",
    "    df['day_of_week'] = df.index.dayofweek\n",
    "    \n",
    "    # feature engineer: add 'sales_total' column multiplying 'sale_amount' & 'item_price'\n",
    "    df[\"sales_total\"] = df[\"sale_amount\"]*df[\"item_price\"]\n",
    "    \n",
    "    return df"
   ]
  },
  {
   "cell_type": "markdown",
   "id": "0225137f",
   "metadata": {},
   "source": [
    "<hr style=\"border:2px solid gray\">"
   ]
  },
  {
   "cell_type": "markdown",
   "id": "76131c09",
   "metadata": {},
   "source": [
    "### Using the OPS data acquired in the Acquire exercises opsd_germany_daily.csv, complete the following:"
   ]
  },
  {
   "cell_type": "code",
   "execution_count": 21,
   "id": "ef318a15",
   "metadata": {},
   "outputs": [
    {
     "name": "stdout",
     "output_type": "stream",
     "text": [
      "File opsd_germany_daily.csv already exists.\n"
     ]
    }
   ],
   "source": [
    "energy_df = acq.get_energy_data()"
   ]
  },
  {
   "cell_type": "markdown",
   "id": "20571dc0",
   "metadata": {},
   "source": [
    "# 1. Convert date column to datetime format."
   ]
  },
  {
   "cell_type": "code",
   "execution_count": 23,
   "id": "63880935",
   "metadata": {},
   "outputs": [
    {
     "data": {
      "text/plain": [
       "Index(['Date', 'Consumption', 'Wind', 'Solar', 'Wind+Solar'], dtype='object')"
      ]
     },
     "execution_count": 23,
     "metadata": {},
     "output_type": "execute_result"
    }
   ],
   "source": [
    "energy_df.columns"
   ]
  },
  {
   "cell_type": "code",
   "execution_count": 24,
   "id": "d2dfbb2f",
   "metadata": {},
   "outputs": [],
   "source": [
    "energy_df['Date']=pd.to_datetime(energy_df['Date'])"
   ]
  },
  {
   "cell_type": "markdown",
   "id": "f3a27348",
   "metadata": {},
   "source": [
    "# 2. Plot the distribution of each of your variables."
   ]
  },
  {
   "cell_type": "code",
   "execution_count": 27,
   "id": "bd6909ed",
   "metadata": {},
   "outputs": [],
   "source": [
    "numeric_columns = energy_df.select_dtypes(include=[np.number]).columns"
   ]
  },
  {
   "cell_type": "code",
   "execution_count": 28,
   "id": "159c66a1",
   "metadata": {},
   "outputs": [
    {
     "data": {
      "image/png": "[encoded data removed]",
      "text/plain": [
       "<Figure size 640x480 with 1 Axes>"
      ]
     },
     "metadata": {},
     "output_type": "display_data"
    },
    {
     "data": {
      "image/png": "[encoded data removed]",
      "text/plain": [
       "<Figure size 640x480 with 1 Axes>"
      ]
     },
     "metadata": {},
     "output_type": "display_data"
    },
    {
     "data": {
      "image/png": "[encoded data removed]",
      "text/plain": [
       "<Figure size 640x480 with 1 Axes>"
      ]
     },
     "metadata": {},
     "output_type": "display_data"
    },
    {
     "data": {
      "image/png": "[encoded data removed]",
      "text/plain": [
       "<Figure size 640x480 with 1 Axes>"
      ]
     },
     "metadata": {},
     "output_type": "display_data"
    }
   ],
   "source": [
    "for column in numeric_columns:\n",
    "    plt.hist(energy_df[column])\n",
    "    plt.title(column)\n",
    "    plt.show()"
   ]
  },
  {
   "cell_type": "markdown",
   "id": "0093a6cc",
   "metadata": {},
   "source": [
    "# 3. Set the index to be the datetime variable."
   ]
  },
  {
   "cell_type": "code",
   "execution_count": 119,
   "id": "ba1cc80f",
   "metadata": {},
   "outputs": [
    {
     "data": {
      "text/plain": [
       "Index(['Consumption', 'month', 'year', 'Wind_Solar', 'Solar', 'Wind'], dtype='object')"
      ]
     },
     "execution_count": 119,
     "metadata": {},
     "output_type": "execute_result"
    }
   ],
   "source": [
    "energy_df.columns"
   ]
  },
  {
   "cell_type": "code",
   "execution_count": 30,
   "id": "f1ac335e",
   "metadata": {},
   "outputs": [],
   "source": [
    "energy_df = energy_df.set_index(\"Date\").sort_index()"
   ]
  },
  {
   "cell_type": "markdown",
   "id": "dc57cd6e",
   "metadata": {},
   "source": [
    "# 4. Add a month and a year column to your dataframe."
   ]
  },
  {
   "cell_type": "code",
   "execution_count": 32,
   "id": "6886885a",
   "metadata": {},
   "outputs": [],
   "source": [
    "energy_df['month'] = energy_df.index.month_name()\n",
    "energy_df['year'] = energy_df.index.year"
   ]
  },
  {
   "cell_type": "markdown",
   "id": "6ef7733d",
   "metadata": {},
   "source": [
    "# 5. Fill any missing values."
   ]
  },
  {
   "cell_type": "code",
   "execution_count": 110,
   "id": "1c15b692",
   "metadata": {},
   "outputs": [],
   "source": [
    "energy_df = energy_df.assign(Wind_Solar=lambda df: energy_df[\"Wind+Solar\"].bfill())\n",
    "energy_df = energy_df.assign(Fixed_Solar=lambda df: energy_df[\"Solar\"].bfill())\n",
    "energy_df = energy_df.assign(Fixed_Wind=lambda df: energy_df[\"Wind\"].bfill())"
   ]
  },
  {
   "cell_type": "code",
   "execution_count": 111,
   "id": "9106598e",
   "metadata": {},
   "outputs": [],
   "source": [
    "energy_df = energy_df.drop(columns = ['Wind','Solar','Wind+Solar'])"
   ]
  },
  {
   "cell_type": "code",
   "execution_count": 115,
   "id": "47052936",
   "metadata": {},
   "outputs": [],
   "source": [
    "energy_df = energy_df.rename(columns={\"Fixed_Solar\": \"Solar\", \"Fixed_Wind\": \"Wind\"})"
   ]
  },
  {
   "cell_type": "code",
   "execution_count": 118,
   "id": "e69b2dd2",
   "metadata": {},
   "outputs": [
    {
     "data": {
      "text/plain": [
       "Consumption    0\n",
       "month          0\n",
       "year           0\n",
       "Wind_Solar     0\n",
       "Solar          0\n",
       "Wind           0\n",
       "dtype: int64"
      ]
     },
     "execution_count": 118,
     "metadata": {},
     "output_type": "execute_result"
    }
   ],
   "source": [
    "energy_df.isnull().sum()"
   ]
  },
  {
   "cell_type": "markdown",
   "id": "a53fcbae",
   "metadata": {},
   "source": [
    "# 6. Make sure all the work that you have done above is reproducible. That is, you should put the code above into separate functions and be able to re-run the functions and get the same results."
   ]
  },
  {
   "cell_type": "code",
   "execution_count": 120,
   "id": "e955bec2",
   "metadata": {},
   "outputs": [],
   "source": [
    "def clean_energy_data(df):\n",
    "    # fix datatype of 'Date' column\n",
    "    df['Date']=pd.to_datetime(df['Date'])\n",
    "    \n",
    "    # set 'Date' column as index and sorted\n",
    "    df = df.set_index(\"Date\").sort_index()\n",
    "    \n",
    "    # feature engineering: added 'month' column using index\n",
    "    df['month'] = df.index.month\n",
    "    \n",
    "    # feature engineering: added 'year' column using index\n",
    "    df['year'] = df.index.year\n",
    "    \n",
    "    # N U L L S\n",
    "    # removed nulls from ['Wind','Solar','Wind_Solar'] columns\n",
    "    # by backfilling and added as new columns\n",
    "    df = df.assign(Wind_Solar=lambda df: df[\"Wind+Solar\"].bfill())\n",
    "    df = df.assign(Fixed_Solar=lambda df: df[\"Solar\"].bfill())\n",
    "    df = df.assign(Fixed_Wind=lambda df: df[\"Wind\"].bfill())\n",
    "    \n",
    "    # dropped the old null columns\n",
    "    df = df.drop(columns = ['Wind','Solar','Wind+Solar'])\n",
    "    \n",
    "    # renamed backfilled column names\n",
    "    df = df.rename(columns={\"Fixed_Solar\": \"Solar\", \"Fixed_Wind\": \"Wind\"})"
   ]
  }
 ],
 "metadata": {
  "kernelspec": {
   "display_name": "Python 3 (ipykernel)",
   "language": "python",
   "name": "python3"
  },
  "language_info": {
   "codemirror_mode": {
    "name": "ipython",
    "version": 3
   },
   "file_extension": ".py",
   "mimetype": "text/x-python",
   "name": "python",
   "nbconvert_exporter": "python",
   "pygments_lexer": "ipython3",
   "version": "3.9.15"
  }
 },
 "nbformat": 4,
 "nbformat_minor": 5
}
